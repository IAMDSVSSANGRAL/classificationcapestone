{
 "cells": [
  {
   "cell_type": "code",
   "execution_count": 1,
   "id": "e8e4a3f1",
   "metadata": {
    "_cell_guid": "b1076dfc-b9ad-4769-8c92-a6c4dae69d19",
    "_uuid": "8f2839f25d086af736a60e9eeb907d3b93b6e0e5",
    "execution": {
     "iopub.execute_input": "2024-04-16T07:13:09.998670Z",
     "iopub.status.busy": "2024-04-16T07:13:09.997928Z",
     "iopub.status.idle": "2024-04-16T07:13:11.181588Z",
     "shell.execute_reply": "2024-04-16T07:13:11.180209Z"
    },
    "papermill": {
     "duration": 1.197773,
     "end_time": "2024-04-16T07:13:11.184868",
     "exception": false,
     "start_time": "2024-04-16T07:13:09.987095",
     "status": "completed"
    },
    "tags": []
   },
   "outputs": [
    {
     "name": "stdout",
     "output_type": "stream",
     "text": [
      "/kaggle/input/credit-card-customer-churn-prediction/Churn_Modelling.csv\n"
     ]
    }
   ],
   "source": [
    "# This Python 3 environment comes with many helpful analytics libraries installed\n",
    "# It is defined by the kaggle/python Docker image: https://github.com/kaggle/docker-python\n",
    "# For example, here's several helpful packages to load\n",
    "\n",
    "import numpy as np # linear algebra\n",
    "import pandas as pd # data processing, CSV file I/O (e.g. pd.read_csv)\n",
    "\n",
    "# Input data files are available in the read-only \"../input/\" directory\n",
    "# For example, running this (by clicking run or pressing Shift+Enter) will list all files under the input directory\n",
    "\n",
    "import os\n",
    "for dirname, _, filenames in os.walk('/kaggle/input'):\n",
    "    for filename in filenames:\n",
    "        print(os.path.join(dirname, filename))\n",
    "\n",
    "# You can write up to 20GB to the current directory (/kaggle/working/) that gets preserved as output when you create a version using \"Save & Run All\" \n",
    "# You can also write temporary files to /kaggle/temp/, but they won't be saved outside of the current session"
   ]
  },
  {
   "cell_type": "code",
   "execution_count": 2,
   "id": "c475e206",
   "metadata": {
    "execution": {
     "iopub.execute_input": "2024-04-16T07:13:11.203223Z",
     "iopub.status.busy": "2024-04-16T07:13:11.202568Z",
     "iopub.status.idle": "2024-04-16T07:13:11.258792Z",
     "shell.execute_reply": "2024-04-16T07:13:11.257070Z"
    },
    "papermill": {
     "duration": 0.06881,
     "end_time": "2024-04-16T07:13:11.262052",
     "exception": false,
     "start_time": "2024-04-16T07:13:11.193242",
     "status": "completed"
    },
    "tags": []
   },
   "outputs": [],
   "source": [
    "df = pd.read_csv(\"/kaggle/input/credit-card-customer-churn-prediction/Churn_Modelling.csv\")"
   ]
  },
  {
   "cell_type": "code",
   "execution_count": 3,
   "id": "207453c7",
   "metadata": {
    "execution": {
     "iopub.execute_input": "2024-04-16T07:13:11.279352Z",
     "iopub.status.busy": "2024-04-16T07:13:11.278876Z",
     "iopub.status.idle": "2024-04-16T07:13:11.307132Z",
     "shell.execute_reply": "2024-04-16T07:13:11.305431Z"
    },
    "papermill": {
     "duration": 0.041776,
     "end_time": "2024-04-16T07:13:11.311451",
     "exception": false,
     "start_time": "2024-04-16T07:13:11.269675",
     "status": "completed"
    },
    "tags": []
   },
   "outputs": [
    {
     "name": "stdout",
     "output_type": "stream",
     "text": [
      "(10000, 14)\n"
     ]
    },
    {
     "data": {
      "text/html": [
       "<div>\n",
       "<style scoped>\n",
       "    .dataframe tbody tr th:only-of-type {\n",
       "        vertical-align: middle;\n",
       "    }\n",
       "\n",
       "    .dataframe tbody tr th {\n",
       "        vertical-align: top;\n",
       "    }\n",
       "\n",
       "    .dataframe thead th {\n",
       "        text-align: right;\n",
       "    }\n",
       "</style>\n",
       "<table border=\"1\" class=\"dataframe\">\n",
       "  <thead>\n",
       "    <tr style=\"text-align: right;\">\n",
       "      <th></th>\n",
       "      <th>RowNumber</th>\n",
       "      <th>CustomerId</th>\n",
       "      <th>Surname</th>\n",
       "      <th>CreditScore</th>\n",
       "      <th>Geography</th>\n",
       "      <th>Gender</th>\n",
       "      <th>Age</th>\n",
       "      <th>Tenure</th>\n",
       "      <th>Balance</th>\n",
       "      <th>NumOfProducts</th>\n",
       "      <th>HasCrCard</th>\n",
       "      <th>IsActiveMember</th>\n",
       "      <th>EstimatedSalary</th>\n",
       "      <th>Exited</th>\n",
       "    </tr>\n",
       "  </thead>\n",
       "  <tbody>\n",
       "    <tr>\n",
       "      <th>0</th>\n",
       "      <td>1</td>\n",
       "      <td>15634602</td>\n",
       "      <td>Hargrave</td>\n",
       "      <td>619</td>\n",
       "      <td>France</td>\n",
       "      <td>Female</td>\n",
       "      <td>42</td>\n",
       "      <td>2</td>\n",
       "      <td>0.00</td>\n",
       "      <td>1</td>\n",
       "      <td>1</td>\n",
       "      <td>1</td>\n",
       "      <td>101348.88</td>\n",
       "      <td>1</td>\n",
       "    </tr>\n",
       "    <tr>\n",
       "      <th>1</th>\n",
       "      <td>2</td>\n",
       "      <td>15647311</td>\n",
       "      <td>Hill</td>\n",
       "      <td>608</td>\n",
       "      <td>Spain</td>\n",
       "      <td>Female</td>\n",
       "      <td>41</td>\n",
       "      <td>1</td>\n",
       "      <td>83807.86</td>\n",
       "      <td>1</td>\n",
       "      <td>0</td>\n",
       "      <td>1</td>\n",
       "      <td>112542.58</td>\n",
       "      <td>0</td>\n",
       "    </tr>\n",
       "    <tr>\n",
       "      <th>2</th>\n",
       "      <td>3</td>\n",
       "      <td>15619304</td>\n",
       "      <td>Onio</td>\n",
       "      <td>502</td>\n",
       "      <td>France</td>\n",
       "      <td>Female</td>\n",
       "      <td>42</td>\n",
       "      <td>8</td>\n",
       "      <td>159660.80</td>\n",
       "      <td>3</td>\n",
       "      <td>1</td>\n",
       "      <td>0</td>\n",
       "      <td>113931.57</td>\n",
       "      <td>1</td>\n",
       "    </tr>\n",
       "    <tr>\n",
       "      <th>3</th>\n",
       "      <td>4</td>\n",
       "      <td>15701354</td>\n",
       "      <td>Boni</td>\n",
       "      <td>699</td>\n",
       "      <td>France</td>\n",
       "      <td>Female</td>\n",
       "      <td>39</td>\n",
       "      <td>1</td>\n",
       "      <td>0.00</td>\n",
       "      <td>2</td>\n",
       "      <td>0</td>\n",
       "      <td>0</td>\n",
       "      <td>93826.63</td>\n",
       "      <td>0</td>\n",
       "    </tr>\n",
       "    <tr>\n",
       "      <th>4</th>\n",
       "      <td>5</td>\n",
       "      <td>15737888</td>\n",
       "      <td>Mitchell</td>\n",
       "      <td>850</td>\n",
       "      <td>Spain</td>\n",
       "      <td>Female</td>\n",
       "      <td>43</td>\n",
       "      <td>2</td>\n",
       "      <td>125510.82</td>\n",
       "      <td>1</td>\n",
       "      <td>1</td>\n",
       "      <td>1</td>\n",
       "      <td>79084.10</td>\n",
       "      <td>0</td>\n",
       "    </tr>\n",
       "  </tbody>\n",
       "</table>\n",
       "</div>"
      ],
      "text/plain": [
       "   RowNumber  CustomerId   Surname  CreditScore Geography  Gender  Age  \\\n",
       "0          1    15634602  Hargrave          619    France  Female   42   \n",
       "1          2    15647311      Hill          608     Spain  Female   41   \n",
       "2          3    15619304      Onio          502    France  Female   42   \n",
       "3          4    15701354      Boni          699    France  Female   39   \n",
       "4          5    15737888  Mitchell          850     Spain  Female   43   \n",
       "\n",
       "   Tenure    Balance  NumOfProducts  HasCrCard  IsActiveMember  \\\n",
       "0       2       0.00              1          1               1   \n",
       "1       1   83807.86              1          0               1   \n",
       "2       8  159660.80              3          1               0   \n",
       "3       1       0.00              2          0               0   \n",
       "4       2  125510.82              1          1               1   \n",
       "\n",
       "   EstimatedSalary  Exited  \n",
       "0        101348.88       1  \n",
       "1        112542.58       0  \n",
       "2        113931.57       1  \n",
       "3         93826.63       0  \n",
       "4         79084.10       0  "
      ]
     },
     "execution_count": 3,
     "metadata": {},
     "output_type": "execute_result"
    }
   ],
   "source": [
    "print(df.shape)\n",
    "df.head()"
   ]
  },
  {
   "cell_type": "code",
   "execution_count": 4,
   "id": "40b294be",
   "metadata": {
    "execution": {
     "iopub.execute_input": "2024-04-16T07:13:11.329196Z",
     "iopub.status.busy": "2024-04-16T07:13:11.328691Z",
     "iopub.status.idle": "2024-04-16T07:13:11.367172Z",
     "shell.execute_reply": "2024-04-16T07:13:11.364943Z"
    },
    "papermill": {
     "duration": 0.051158,
     "end_time": "2024-04-16T07:13:11.370339",
     "exception": false,
     "start_time": "2024-04-16T07:13:11.319181",
     "status": "completed"
    },
    "tags": []
   },
   "outputs": [
    {
     "name": "stdout",
     "output_type": "stream",
     "text": [
      "<class 'pandas.core.frame.DataFrame'>\n",
      "RangeIndex: 10000 entries, 0 to 9999\n",
      "Data columns (total 14 columns):\n",
      " #   Column           Non-Null Count  Dtype  \n",
      "---  ------           --------------  -----  \n",
      " 0   RowNumber        10000 non-null  int64  \n",
      " 1   CustomerId       10000 non-null  int64  \n",
      " 2   Surname          10000 non-null  object \n",
      " 3   CreditScore      10000 non-null  int64  \n",
      " 4   Geography        10000 non-null  object \n",
      " 5   Gender           10000 non-null  object \n",
      " 6   Age              10000 non-null  int64  \n",
      " 7   Tenure           10000 non-null  int64  \n",
      " 8   Balance          10000 non-null  float64\n",
      " 9   NumOfProducts    10000 non-null  int64  \n",
      " 10  HasCrCard        10000 non-null  int64  \n",
      " 11  IsActiveMember   10000 non-null  int64  \n",
      " 12  EstimatedSalary  10000 non-null  float64\n",
      " 13  Exited           10000 non-null  int64  \n",
      "dtypes: float64(2), int64(9), object(3)\n",
      "memory usage: 1.1+ MB\n"
     ]
    }
   ],
   "source": [
    "df.info()"
   ]
  },
  {
   "cell_type": "code",
   "execution_count": 5,
   "id": "3236da78",
   "metadata": {
    "execution": {
     "iopub.execute_input": "2024-04-16T07:13:11.390862Z",
     "iopub.status.busy": "2024-04-16T07:13:11.390406Z",
     "iopub.status.idle": "2024-04-16T07:13:11.407928Z",
     "shell.execute_reply": "2024-04-16T07:13:11.406566Z"
    },
    "papermill": {
     "duration": 0.031588,
     "end_time": "2024-04-16T07:13:11.410771",
     "exception": false,
     "start_time": "2024-04-16T07:13:11.379183",
     "status": "completed"
    },
    "tags": []
   },
   "outputs": [
    {
     "data": {
      "text/plain": [
       "0"
      ]
     },
     "execution_count": 5,
     "metadata": {},
     "output_type": "execute_result"
    }
   ],
   "source": [
    "df.duplicated().sum()"
   ]
  },
  {
   "cell_type": "code",
   "execution_count": 6,
   "id": "e683dd91",
   "metadata": {
    "execution": {
     "iopub.execute_input": "2024-04-16T07:13:11.429494Z",
     "iopub.status.busy": "2024-04-16T07:13:11.429046Z",
     "iopub.status.idle": "2024-04-16T07:13:11.442106Z",
     "shell.execute_reply": "2024-04-16T07:13:11.440473Z"
    },
    "papermill": {
     "duration": 0.025808,
     "end_time": "2024-04-16T07:13:11.444942",
     "exception": false,
     "start_time": "2024-04-16T07:13:11.419134",
     "status": "completed"
    },
    "tags": []
   },
   "outputs": [
    {
     "data": {
      "text/plain": [
       "Exited\n",
       "0    7963\n",
       "1    2037\n",
       "Name: count, dtype: int64"
      ]
     },
     "execution_count": 6,
     "metadata": {},
     "output_type": "execute_result"
    }
   ],
   "source": [
    "df[\"Exited\"].value_counts()\n",
    "#there is imabalance classification problem"
   ]
  },
  {
   "cell_type": "code",
   "execution_count": 7,
   "id": "40431ff7",
   "metadata": {
    "execution": {
     "iopub.execute_input": "2024-04-16T07:13:11.465467Z",
     "iopub.status.busy": "2024-04-16T07:13:11.465033Z",
     "iopub.status.idle": "2024-04-16T07:13:11.476870Z",
     "shell.execute_reply": "2024-04-16T07:13:11.475279Z"
    },
    "papermill": {
     "duration": 0.025069,
     "end_time": "2024-04-16T07:13:11.479578",
     "exception": false,
     "start_time": "2024-04-16T07:13:11.454509",
     "status": "completed"
    },
    "tags": []
   },
   "outputs": [
    {
     "data": {
      "text/plain": [
       "Geography\n",
       "France     5014\n",
       "Germany    2509\n",
       "Spain      2477\n",
       "Name: count, dtype: int64"
      ]
     },
     "execution_count": 7,
     "metadata": {},
     "output_type": "execute_result"
    }
   ],
   "source": [
    "df[\"Geography\"].value_counts()"
   ]
  },
  {
   "cell_type": "code",
   "execution_count": 8,
   "id": "96af3374",
   "metadata": {
    "execution": {
     "iopub.execute_input": "2024-04-16T07:13:11.498913Z",
     "iopub.status.busy": "2024-04-16T07:13:11.497811Z",
     "iopub.status.idle": "2024-04-16T07:13:11.509631Z",
     "shell.execute_reply": "2024-04-16T07:13:11.508095Z"
    },
    "papermill": {
     "duration": 0.024742,
     "end_time": "2024-04-16T07:13:11.512721",
     "exception": false,
     "start_time": "2024-04-16T07:13:11.487979",
     "status": "completed"
    },
    "tags": []
   },
   "outputs": [],
   "source": [
    "df.drop(columns = [\"RowNumber\",\"CustomerId\",\"Surname\"],inplace= True)"
   ]
  },
  {
   "cell_type": "code",
   "execution_count": 9,
   "id": "3630cf14",
   "metadata": {
    "execution": {
     "iopub.execute_input": "2024-04-16T07:13:11.532538Z",
     "iopub.status.busy": "2024-04-16T07:13:11.532100Z",
     "iopub.status.idle": "2024-04-16T07:13:11.549324Z",
     "shell.execute_reply": "2024-04-16T07:13:11.547774Z"
    },
    "papermill": {
     "duration": 0.03079,
     "end_time": "2024-04-16T07:13:11.552012",
     "exception": false,
     "start_time": "2024-04-16T07:13:11.521222",
     "status": "completed"
    },
    "tags": []
   },
   "outputs": [
    {
     "name": "stdout",
     "output_type": "stream",
     "text": [
      "(10000, 11)\n"
     ]
    },
    {
     "data": {
      "text/html": [
       "<div>\n",
       "<style scoped>\n",
       "    .dataframe tbody tr th:only-of-type {\n",
       "        vertical-align: middle;\n",
       "    }\n",
       "\n",
       "    .dataframe tbody tr th {\n",
       "        vertical-align: top;\n",
       "    }\n",
       "\n",
       "    .dataframe thead th {\n",
       "        text-align: right;\n",
       "    }\n",
       "</style>\n",
       "<table border=\"1\" class=\"dataframe\">\n",
       "  <thead>\n",
       "    <tr style=\"text-align: right;\">\n",
       "      <th></th>\n",
       "      <th>CreditScore</th>\n",
       "      <th>Geography</th>\n",
       "      <th>Gender</th>\n",
       "      <th>Age</th>\n",
       "      <th>Tenure</th>\n",
       "      <th>Balance</th>\n",
       "      <th>NumOfProducts</th>\n",
       "      <th>HasCrCard</th>\n",
       "      <th>IsActiveMember</th>\n",
       "      <th>EstimatedSalary</th>\n",
       "      <th>Exited</th>\n",
       "    </tr>\n",
       "  </thead>\n",
       "  <tbody>\n",
       "    <tr>\n",
       "      <th>0</th>\n",
       "      <td>619</td>\n",
       "      <td>France</td>\n",
       "      <td>Female</td>\n",
       "      <td>42</td>\n",
       "      <td>2</td>\n",
       "      <td>0.00</td>\n",
       "      <td>1</td>\n",
       "      <td>1</td>\n",
       "      <td>1</td>\n",
       "      <td>101348.88</td>\n",
       "      <td>1</td>\n",
       "    </tr>\n",
       "    <tr>\n",
       "      <th>1</th>\n",
       "      <td>608</td>\n",
       "      <td>Spain</td>\n",
       "      <td>Female</td>\n",
       "      <td>41</td>\n",
       "      <td>1</td>\n",
       "      <td>83807.86</td>\n",
       "      <td>1</td>\n",
       "      <td>0</td>\n",
       "      <td>1</td>\n",
       "      <td>112542.58</td>\n",
       "      <td>0</td>\n",
       "    </tr>\n",
       "    <tr>\n",
       "      <th>2</th>\n",
       "      <td>502</td>\n",
       "      <td>France</td>\n",
       "      <td>Female</td>\n",
       "      <td>42</td>\n",
       "      <td>8</td>\n",
       "      <td>159660.80</td>\n",
       "      <td>3</td>\n",
       "      <td>1</td>\n",
       "      <td>0</td>\n",
       "      <td>113931.57</td>\n",
       "      <td>1</td>\n",
       "    </tr>\n",
       "    <tr>\n",
       "      <th>3</th>\n",
       "      <td>699</td>\n",
       "      <td>France</td>\n",
       "      <td>Female</td>\n",
       "      <td>39</td>\n",
       "      <td>1</td>\n",
       "      <td>0.00</td>\n",
       "      <td>2</td>\n",
       "      <td>0</td>\n",
       "      <td>0</td>\n",
       "      <td>93826.63</td>\n",
       "      <td>0</td>\n",
       "    </tr>\n",
       "    <tr>\n",
       "      <th>4</th>\n",
       "      <td>850</td>\n",
       "      <td>Spain</td>\n",
       "      <td>Female</td>\n",
       "      <td>43</td>\n",
       "      <td>2</td>\n",
       "      <td>125510.82</td>\n",
       "      <td>1</td>\n",
       "      <td>1</td>\n",
       "      <td>1</td>\n",
       "      <td>79084.10</td>\n",
       "      <td>0</td>\n",
       "    </tr>\n",
       "  </tbody>\n",
       "</table>\n",
       "</div>"
      ],
      "text/plain": [
       "   CreditScore Geography  Gender  Age  Tenure    Balance  NumOfProducts  \\\n",
       "0          619    France  Female   42       2       0.00              1   \n",
       "1          608     Spain  Female   41       1   83807.86              1   \n",
       "2          502    France  Female   42       8  159660.80              3   \n",
       "3          699    France  Female   39       1       0.00              2   \n",
       "4          850     Spain  Female   43       2  125510.82              1   \n",
       "\n",
       "   HasCrCard  IsActiveMember  EstimatedSalary  Exited  \n",
       "0          1               1        101348.88       1  \n",
       "1          0               1        112542.58       0  \n",
       "2          1               0        113931.57       1  \n",
       "3          0               0         93826.63       0  \n",
       "4          1               1         79084.10       0  "
      ]
     },
     "execution_count": 9,
     "metadata": {},
     "output_type": "execute_result"
    }
   ],
   "source": [
    "print(df.shape)\n",
    "df.head()"
   ]
  },
  {
   "cell_type": "code",
   "execution_count": 10,
   "id": "62e29017",
   "metadata": {
    "execution": {
     "iopub.execute_input": "2024-04-16T07:13:11.572358Z",
     "iopub.status.busy": "2024-04-16T07:13:11.571579Z",
     "iopub.status.idle": "2024-04-16T07:13:11.587379Z",
     "shell.execute_reply": "2024-04-16T07:13:11.585814Z"
    },
    "papermill": {
     "duration": 0.029911,
     "end_time": "2024-04-16T07:13:11.590338",
     "exception": false,
     "start_time": "2024-04-16T07:13:11.560427",
     "status": "completed"
    },
    "tags": []
   },
   "outputs": [],
   "source": [
    "df_encoded = pd.get_dummies(df, columns=[\"Geography\", \"Gender\"], drop_first=True, dtype=int)\n"
   ]
  },
  {
   "cell_type": "code",
   "execution_count": 11,
   "id": "74650242",
   "metadata": {
    "execution": {
     "iopub.execute_input": "2024-04-16T07:13:11.610298Z",
     "iopub.status.busy": "2024-04-16T07:13:11.609839Z",
     "iopub.status.idle": "2024-04-16T07:13:11.630886Z",
     "shell.execute_reply": "2024-04-16T07:13:11.629736Z"
    },
    "papermill": {
     "duration": 0.033532,
     "end_time": "2024-04-16T07:13:11.633029",
     "exception": false,
     "start_time": "2024-04-16T07:13:11.599497",
     "status": "completed"
    },
    "tags": []
   },
   "outputs": [
    {
     "data": {
      "text/html": [
       "<div>\n",
       "<style scoped>\n",
       "    .dataframe tbody tr th:only-of-type {\n",
       "        vertical-align: middle;\n",
       "    }\n",
       "\n",
       "    .dataframe tbody tr th {\n",
       "        vertical-align: top;\n",
       "    }\n",
       "\n",
       "    .dataframe thead th {\n",
       "        text-align: right;\n",
       "    }\n",
       "</style>\n",
       "<table border=\"1\" class=\"dataframe\">\n",
       "  <thead>\n",
       "    <tr style=\"text-align: right;\">\n",
       "      <th></th>\n",
       "      <th>CreditScore</th>\n",
       "      <th>Age</th>\n",
       "      <th>Tenure</th>\n",
       "      <th>Balance</th>\n",
       "      <th>NumOfProducts</th>\n",
       "      <th>HasCrCard</th>\n",
       "      <th>IsActiveMember</th>\n",
       "      <th>EstimatedSalary</th>\n",
       "      <th>Exited</th>\n",
       "      <th>Geography_Germany</th>\n",
       "      <th>Geography_Spain</th>\n",
       "      <th>Gender_Male</th>\n",
       "    </tr>\n",
       "  </thead>\n",
       "  <tbody>\n",
       "    <tr>\n",
       "      <th>0</th>\n",
       "      <td>619</td>\n",
       "      <td>42</td>\n",
       "      <td>2</td>\n",
       "      <td>0.00</td>\n",
       "      <td>1</td>\n",
       "      <td>1</td>\n",
       "      <td>1</td>\n",
       "      <td>101348.88</td>\n",
       "      <td>1</td>\n",
       "      <td>0</td>\n",
       "      <td>0</td>\n",
       "      <td>0</td>\n",
       "    </tr>\n",
       "    <tr>\n",
       "      <th>1</th>\n",
       "      <td>608</td>\n",
       "      <td>41</td>\n",
       "      <td>1</td>\n",
       "      <td>83807.86</td>\n",
       "      <td>1</td>\n",
       "      <td>0</td>\n",
       "      <td>1</td>\n",
       "      <td>112542.58</td>\n",
       "      <td>0</td>\n",
       "      <td>0</td>\n",
       "      <td>1</td>\n",
       "      <td>0</td>\n",
       "    </tr>\n",
       "    <tr>\n",
       "      <th>2</th>\n",
       "      <td>502</td>\n",
       "      <td>42</td>\n",
       "      <td>8</td>\n",
       "      <td>159660.80</td>\n",
       "      <td>3</td>\n",
       "      <td>1</td>\n",
       "      <td>0</td>\n",
       "      <td>113931.57</td>\n",
       "      <td>1</td>\n",
       "      <td>0</td>\n",
       "      <td>0</td>\n",
       "      <td>0</td>\n",
       "    </tr>\n",
       "    <tr>\n",
       "      <th>3</th>\n",
       "      <td>699</td>\n",
       "      <td>39</td>\n",
       "      <td>1</td>\n",
       "      <td>0.00</td>\n",
       "      <td>2</td>\n",
       "      <td>0</td>\n",
       "      <td>0</td>\n",
       "      <td>93826.63</td>\n",
       "      <td>0</td>\n",
       "      <td>0</td>\n",
       "      <td>0</td>\n",
       "      <td>0</td>\n",
       "    </tr>\n",
       "    <tr>\n",
       "      <th>4</th>\n",
       "      <td>850</td>\n",
       "      <td>43</td>\n",
       "      <td>2</td>\n",
       "      <td>125510.82</td>\n",
       "      <td>1</td>\n",
       "      <td>1</td>\n",
       "      <td>1</td>\n",
       "      <td>79084.10</td>\n",
       "      <td>0</td>\n",
       "      <td>0</td>\n",
       "      <td>1</td>\n",
       "      <td>0</td>\n",
       "    </tr>\n",
       "    <tr>\n",
       "      <th>...</th>\n",
       "      <td>...</td>\n",
       "      <td>...</td>\n",
       "      <td>...</td>\n",
       "      <td>...</td>\n",
       "      <td>...</td>\n",
       "      <td>...</td>\n",
       "      <td>...</td>\n",
       "      <td>...</td>\n",
       "      <td>...</td>\n",
       "      <td>...</td>\n",
       "      <td>...</td>\n",
       "      <td>...</td>\n",
       "    </tr>\n",
       "    <tr>\n",
       "      <th>9995</th>\n",
       "      <td>771</td>\n",
       "      <td>39</td>\n",
       "      <td>5</td>\n",
       "      <td>0.00</td>\n",
       "      <td>2</td>\n",
       "      <td>1</td>\n",
       "      <td>0</td>\n",
       "      <td>96270.64</td>\n",
       "      <td>0</td>\n",
       "      <td>0</td>\n",
       "      <td>0</td>\n",
       "      <td>1</td>\n",
       "    </tr>\n",
       "    <tr>\n",
       "      <th>9996</th>\n",
       "      <td>516</td>\n",
       "      <td>35</td>\n",
       "      <td>10</td>\n",
       "      <td>57369.61</td>\n",
       "      <td>1</td>\n",
       "      <td>1</td>\n",
       "      <td>1</td>\n",
       "      <td>101699.77</td>\n",
       "      <td>0</td>\n",
       "      <td>0</td>\n",
       "      <td>0</td>\n",
       "      <td>1</td>\n",
       "    </tr>\n",
       "    <tr>\n",
       "      <th>9997</th>\n",
       "      <td>709</td>\n",
       "      <td>36</td>\n",
       "      <td>7</td>\n",
       "      <td>0.00</td>\n",
       "      <td>1</td>\n",
       "      <td>0</td>\n",
       "      <td>1</td>\n",
       "      <td>42085.58</td>\n",
       "      <td>1</td>\n",
       "      <td>0</td>\n",
       "      <td>0</td>\n",
       "      <td>0</td>\n",
       "    </tr>\n",
       "    <tr>\n",
       "      <th>9998</th>\n",
       "      <td>772</td>\n",
       "      <td>42</td>\n",
       "      <td>3</td>\n",
       "      <td>75075.31</td>\n",
       "      <td>2</td>\n",
       "      <td>1</td>\n",
       "      <td>0</td>\n",
       "      <td>92888.52</td>\n",
       "      <td>1</td>\n",
       "      <td>1</td>\n",
       "      <td>0</td>\n",
       "      <td>1</td>\n",
       "    </tr>\n",
       "    <tr>\n",
       "      <th>9999</th>\n",
       "      <td>792</td>\n",
       "      <td>28</td>\n",
       "      <td>4</td>\n",
       "      <td>130142.79</td>\n",
       "      <td>1</td>\n",
       "      <td>1</td>\n",
       "      <td>0</td>\n",
       "      <td>38190.78</td>\n",
       "      <td>0</td>\n",
       "      <td>0</td>\n",
       "      <td>0</td>\n",
       "      <td>0</td>\n",
       "    </tr>\n",
       "  </tbody>\n",
       "</table>\n",
       "<p>10000 rows × 12 columns</p>\n",
       "</div>"
      ],
      "text/plain": [
       "      CreditScore  Age  Tenure    Balance  NumOfProducts  HasCrCard  \\\n",
       "0             619   42       2       0.00              1          1   \n",
       "1             608   41       1   83807.86              1          0   \n",
       "2             502   42       8  159660.80              3          1   \n",
       "3             699   39       1       0.00              2          0   \n",
       "4             850   43       2  125510.82              1          1   \n",
       "...           ...  ...     ...        ...            ...        ...   \n",
       "9995          771   39       5       0.00              2          1   \n",
       "9996          516   35      10   57369.61              1          1   \n",
       "9997          709   36       7       0.00              1          0   \n",
       "9998          772   42       3   75075.31              2          1   \n",
       "9999          792   28       4  130142.79              1          1   \n",
       "\n",
       "      IsActiveMember  EstimatedSalary  Exited  Geography_Germany  \\\n",
       "0                  1        101348.88       1                  0   \n",
       "1                  1        112542.58       0                  0   \n",
       "2                  0        113931.57       1                  0   \n",
       "3                  0         93826.63       0                  0   \n",
       "4                  1         79084.10       0                  0   \n",
       "...              ...              ...     ...                ...   \n",
       "9995               0         96270.64       0                  0   \n",
       "9996               1        101699.77       0                  0   \n",
       "9997               1         42085.58       1                  0   \n",
       "9998               0         92888.52       1                  1   \n",
       "9999               0         38190.78       0                  0   \n",
       "\n",
       "      Geography_Spain  Gender_Male  \n",
       "0                   0            0  \n",
       "1                   1            0  \n",
       "2                   0            0  \n",
       "3                   0            0  \n",
       "4                   1            0  \n",
       "...               ...          ...  \n",
       "9995                0            1  \n",
       "9996                0            1  \n",
       "9997                0            0  \n",
       "9998                0            1  \n",
       "9999                0            0  \n",
       "\n",
       "[10000 rows x 12 columns]"
      ]
     },
     "execution_count": 11,
     "metadata": {},
     "output_type": "execute_result"
    }
   ],
   "source": [
    "df_encoded"
   ]
  },
  {
   "cell_type": "code",
   "execution_count": 12,
   "id": "b41e04f1",
   "metadata": {
    "execution": {
     "iopub.execute_input": "2024-04-16T07:13:11.653204Z",
     "iopub.status.busy": "2024-04-16T07:13:11.652754Z",
     "iopub.status.idle": "2024-04-16T07:13:13.266693Z",
     "shell.execute_reply": "2024-04-16T07:13:13.265294Z"
    },
    "papermill": {
     "duration": 1.628212,
     "end_time": "2024-04-16T07:13:13.270033",
     "exception": false,
     "start_time": "2024-04-16T07:13:11.641821",
     "status": "completed"
    },
    "tags": []
   },
   "outputs": [],
   "source": [
    "from sklearn.model_selection import train_test_split\n",
    "\n",
    "X =df_encoded.drop(columns = [\"Exited\"])\n",
    "y =df_encoded[\"Exited\"] \n",
    "X_train,X_test,y_train,y_test = train_test_split(X,y,test_size = 0.2, random_state= 7)"
   ]
  },
  {
   "cell_type": "code",
   "execution_count": 13,
   "id": "d806587d",
   "metadata": {
    "execution": {
     "iopub.execute_input": "2024-04-16T07:13:13.290909Z",
     "iopub.status.busy": "2024-04-16T07:13:13.289661Z",
     "iopub.status.idle": "2024-04-16T07:13:13.298193Z",
     "shell.execute_reply": "2024-04-16T07:13:13.296833Z"
    },
    "papermill": {
     "duration": 0.021298,
     "end_time": "2024-04-16T07:13:13.300506",
     "exception": false,
     "start_time": "2024-04-16T07:13:13.279208",
     "status": "completed"
    },
    "tags": []
   },
   "outputs": [
    {
     "data": {
      "text/plain": [
       "(8000, 11)"
      ]
     },
     "execution_count": 13,
     "metadata": {},
     "output_type": "execute_result"
    }
   ],
   "source": [
    "X_train.shape"
   ]
  },
  {
   "cell_type": "code",
   "execution_count": 14,
   "id": "5183badd",
   "metadata": {
    "execution": {
     "iopub.execute_input": "2024-04-16T07:13:13.321750Z",
     "iopub.status.busy": "2024-04-16T07:13:13.320821Z",
     "iopub.status.idle": "2024-04-16T07:13:13.334706Z",
     "shell.execute_reply": "2024-04-16T07:13:13.333366Z"
    },
    "papermill": {
     "duration": 0.027507,
     "end_time": "2024-04-16T07:13:13.337598",
     "exception": false,
     "start_time": "2024-04-16T07:13:13.310091",
     "status": "completed"
    },
    "tags": []
   },
   "outputs": [],
   "source": [
    "from sklearn.preprocessing import StandardScaler\n",
    "\n",
    "# Instantiate the StandardScaler\n",
    "scaler = StandardScaler()\n",
    "\n",
    "# Fit and transform the training data\n",
    "X_train_scaled = scaler.fit_transform(X_train)\n",
    "\n",
    "# Transform the testing data\n",
    "X_test_scaled = scaler.transform(X_test)"
   ]
  },
  {
   "cell_type": "code",
   "execution_count": 15,
   "id": "a622bb03",
   "metadata": {
    "execution": {
     "iopub.execute_input": "2024-04-16T07:13:13.359106Z",
     "iopub.status.busy": "2024-04-16T07:13:13.358694Z",
     "iopub.status.idle": "2024-04-16T07:13:13.366328Z",
     "shell.execute_reply": "2024-04-16T07:13:13.365379Z"
    },
    "papermill": {
     "duration": 0.020942,
     "end_time": "2024-04-16T07:13:13.368496",
     "exception": false,
     "start_time": "2024-04-16T07:13:13.347554",
     "status": "completed"
    },
    "tags": []
   },
   "outputs": [
    {
     "data": {
      "text/plain": [
       "array([[-0.22482832,  0.09984529,  1.37778936, ..., -0.57581067,\n",
       "        -0.57600312,  0.91578261],\n",
       "       [-0.8357854 , -0.84857831, -1.03726649, ..., -0.57581067,\n",
       "        -0.57600312,  0.91578261],\n",
       "       [-0.98075826,  0.66889946, -0.69225851, ..., -0.57581067,\n",
       "         1.73610172,  0.91578261],\n",
       "       ...,\n",
       "       [ 0.34470794, -0.37436651,  0.34276543, ..., -0.57581067,\n",
       "        -0.57600312,  0.91578261],\n",
       "       [ 0.36541835, -0.46920887,  1.37778936, ..., -0.57581067,\n",
       "         1.73610172,  0.91578261],\n",
       "       [ 0.76927133, -1.22794775,  0.34276543, ..., -0.57581067,\n",
       "        -0.57600312,  0.91578261]])"
      ]
     },
     "execution_count": 15,
     "metadata": {},
     "output_type": "execute_result"
    }
   ],
   "source": [
    "X_train_scaled"
   ]
  },
  {
   "cell_type": "code",
   "execution_count": 16,
   "id": "fa1cf860",
   "metadata": {
    "execution": {
     "iopub.execute_input": "2024-04-16T07:13:13.389676Z",
     "iopub.status.busy": "2024-04-16T07:13:13.388592Z",
     "iopub.status.idle": "2024-04-16T07:13:28.289082Z",
     "shell.execute_reply": "2024-04-16T07:13:28.287779Z"
    },
    "papermill": {
     "duration": 14.914525,
     "end_time": "2024-04-16T07:13:28.292339",
     "exception": false,
     "start_time": "2024-04-16T07:13:13.377814",
     "status": "completed"
    },
    "tags": []
   },
   "outputs": [
    {
     "name": "stderr",
     "output_type": "stream",
     "text": [
      "2024-04-16 07:13:15.852327: E external/local_xla/xla/stream_executor/cuda/cuda_dnn.cc:9261] Unable to register cuDNN factory: Attempting to register factory for plugin cuDNN when one has already been registered\n",
      "2024-04-16 07:13:15.852493: E external/local_xla/xla/stream_executor/cuda/cuda_fft.cc:607] Unable to register cuFFT factory: Attempting to register factory for plugin cuFFT when one has already been registered\n",
      "2024-04-16 07:13:16.024320: E external/local_xla/xla/stream_executor/cuda/cuda_blas.cc:1515] Unable to register cuBLAS factory: Attempting to register factory for plugin cuBLAS when one has already been registered\n"
     ]
    }
   ],
   "source": [
    "import tensorflow\n",
    "from tensorflow import keras\n",
    "from tensorflow.keras import Sequential \n",
    "from tensorflow.keras.layers import Dense"
   ]
  },
  {
   "cell_type": "code",
   "execution_count": 17,
   "id": "d93bf972",
   "metadata": {
    "execution": {
     "iopub.execute_input": "2024-04-16T07:13:28.314004Z",
     "iopub.status.busy": "2024-04-16T07:13:28.313171Z",
     "iopub.status.idle": "2024-04-16T07:13:28.402502Z",
     "shell.execute_reply": "2024-04-16T07:13:28.401200Z"
    },
    "papermill": {
     "duration": 0.103316,
     "end_time": "2024-04-16T07:13:28.405369",
     "exception": false,
     "start_time": "2024-04-16T07:13:28.302053",
     "status": "completed"
    },
    "tags": []
   },
   "outputs": [
    {
     "name": "stderr",
     "output_type": "stream",
     "text": [
      "/opt/conda/lib/python3.10/site-packages/keras/src/layers/core/dense.py:88: UserWarning: Do not pass an `input_shape`/`input_dim` argument to a layer. When using Sequential models, prefer using an `Input(shape)` object as the first layer in the model instead.\n",
      "  super().__init__(activity_regularizer=activity_regularizer, **kwargs)\n"
     ]
    }
   ],
   "source": [
    "model = Sequential()\n",
    "\n",
    "model.add(Dense(11,activation = 'relu',input_dim = 11))\n",
    "model.add(Dense(1,activation =\"relu\" ))"
   ]
  },
  {
   "cell_type": "code",
   "execution_count": 18,
   "id": "1043c151",
   "metadata": {
    "execution": {
     "iopub.execute_input": "2024-04-16T07:13:28.425828Z",
     "iopub.status.busy": "2024-04-16T07:13:28.425382Z",
     "iopub.status.idle": "2024-04-16T07:13:28.447555Z",
     "shell.execute_reply": "2024-04-16T07:13:28.446080Z"
    },
    "papermill": {
     "duration": 0.035463,
     "end_time": "2024-04-16T07:13:28.449979",
     "exception": false,
     "start_time": "2024-04-16T07:13:28.414516",
     "status": "completed"
    },
    "tags": []
   },
   "outputs": [
    {
     "data": {
      "text/html": [
       "<pre style=\"white-space:pre;overflow-x:auto;line-height:normal;font-family:Menlo,'DejaVu Sans Mono',consolas,'Courier New',monospace\"><span style=\"font-weight: bold\">Model: \"sequential\"</span>\n",
       "</pre>\n"
      ],
      "text/plain": [
       "\u001b[1mModel: \"sequential\"\u001b[0m\n"
      ]
     },
     "metadata": {},
     "output_type": "display_data"
    },
    {
     "data": {
      "text/html": [
       "<pre style=\"white-space:pre;overflow-x:auto;line-height:normal;font-family:Menlo,'DejaVu Sans Mono',consolas,'Courier New',monospace\">┏━━━━━━━━━━━━━━━━━━━━━━━━━━━━━━━━━┳━━━━━━━━━━━━━━━━━━━━━━━━┳━━━━━━━━━━━━━━━┓\n",
       "┃<span style=\"font-weight: bold\"> Layer (type)                    </span>┃<span style=\"font-weight: bold\"> Output Shape           </span>┃<span style=\"font-weight: bold\">       Param # </span>┃\n",
       "┡━━━━━━━━━━━━━━━━━━━━━━━━━━━━━━━━━╇━━━━━━━━━━━━━━━━━━━━━━━━╇━━━━━━━━━━━━━━━┩\n",
       "│ dense (<span style=\"color: #0087ff; text-decoration-color: #0087ff\">Dense</span>)                   │ (<span style=\"color: #00d7ff; text-decoration-color: #00d7ff\">None</span>, <span style=\"color: #00af00; text-decoration-color: #00af00\">11</span>)             │           <span style=\"color: #00af00; text-decoration-color: #00af00\">132</span> │\n",
       "├─────────────────────────────────┼────────────────────────┼───────────────┤\n",
       "│ dense_1 (<span style=\"color: #0087ff; text-decoration-color: #0087ff\">Dense</span>)                 │ (<span style=\"color: #00d7ff; text-decoration-color: #00d7ff\">None</span>, <span style=\"color: #00af00; text-decoration-color: #00af00\">1</span>)              │            <span style=\"color: #00af00; text-decoration-color: #00af00\">12</span> │\n",
       "└─────────────────────────────────┴────────────────────────┴───────────────┘\n",
       "</pre>\n"
      ],
      "text/plain": [
       "┏━━━━━━━━━━━━━━━━━━━━━━━━━━━━━━━━━┳━━━━━━━━━━━━━━━━━━━━━━━━┳━━━━━━━━━━━━━━━┓\n",
       "┃\u001b[1m \u001b[0m\u001b[1mLayer (type)                   \u001b[0m\u001b[1m \u001b[0m┃\u001b[1m \u001b[0m\u001b[1mOutput Shape          \u001b[0m\u001b[1m \u001b[0m┃\u001b[1m \u001b[0m\u001b[1m      Param #\u001b[0m\u001b[1m \u001b[0m┃\n",
       "┡━━━━━━━━━━━━━━━━━━━━━━━━━━━━━━━━━╇━━━━━━━━━━━━━━━━━━━━━━━━╇━━━━━━━━━━━━━━━┩\n",
       "│ dense (\u001b[38;5;33mDense\u001b[0m)                   │ (\u001b[38;5;45mNone\u001b[0m, \u001b[38;5;34m11\u001b[0m)             │           \u001b[38;5;34m132\u001b[0m │\n",
       "├─────────────────────────────────┼────────────────────────┼───────────────┤\n",
       "│ dense_1 (\u001b[38;5;33mDense\u001b[0m)                 │ (\u001b[38;5;45mNone\u001b[0m, \u001b[38;5;34m1\u001b[0m)              │            \u001b[38;5;34m12\u001b[0m │\n",
       "└─────────────────────────────────┴────────────────────────┴───────────────┘\n"
      ]
     },
     "metadata": {},
     "output_type": "display_data"
    },
    {
     "data": {
      "text/html": [
       "<pre style=\"white-space:pre;overflow-x:auto;line-height:normal;font-family:Menlo,'DejaVu Sans Mono',consolas,'Courier New',monospace\"><span style=\"font-weight: bold\"> Total params: </span><span style=\"color: #00af00; text-decoration-color: #00af00\">144</span> (576.00 B)\n",
       "</pre>\n"
      ],
      "text/plain": [
       "\u001b[1m Total params: \u001b[0m\u001b[38;5;34m144\u001b[0m (576.00 B)\n"
      ]
     },
     "metadata": {},
     "output_type": "display_data"
    },
    {
     "data": {
      "text/html": [
       "<pre style=\"white-space:pre;overflow-x:auto;line-height:normal;font-family:Menlo,'DejaVu Sans Mono',consolas,'Courier New',monospace\"><span style=\"font-weight: bold\"> Trainable params: </span><span style=\"color: #00af00; text-decoration-color: #00af00\">144</span> (576.00 B)\n",
       "</pre>\n"
      ],
      "text/plain": [
       "\u001b[1m Trainable params: \u001b[0m\u001b[38;5;34m144\u001b[0m (576.00 B)\n"
      ]
     },
     "metadata": {},
     "output_type": "display_data"
    },
    {
     "data": {
      "text/html": [
       "<pre style=\"white-space:pre;overflow-x:auto;line-height:normal;font-family:Menlo,'DejaVu Sans Mono',consolas,'Courier New',monospace\"><span style=\"font-weight: bold\"> Non-trainable params: </span><span style=\"color: #00af00; text-decoration-color: #00af00\">0</span> (0.00 B)\n",
       "</pre>\n"
      ],
      "text/plain": [
       "\u001b[1m Non-trainable params: \u001b[0m\u001b[38;5;34m0\u001b[0m (0.00 B)\n"
      ]
     },
     "metadata": {},
     "output_type": "display_data"
    }
   ],
   "source": [
    "model.summary()"
   ]
  },
  {
   "cell_type": "code",
   "execution_count": 19,
   "id": "9405f994",
   "metadata": {
    "execution": {
     "iopub.execute_input": "2024-04-16T07:13:28.474307Z",
     "iopub.status.busy": "2024-04-16T07:13:28.473091Z",
     "iopub.status.idle": "2024-04-16T07:13:28.493374Z",
     "shell.execute_reply": "2024-04-16T07:13:28.492092Z"
    },
    "papermill": {
     "duration": 0.035102,
     "end_time": "2024-04-16T07:13:28.496144",
     "exception": false,
     "start_time": "2024-04-16T07:13:28.461042",
     "status": "completed"
    },
    "tags": []
   },
   "outputs": [],
   "source": [
    "model.compile(loss = \"binary_crossentropy\",optimizer = \"Adam\",metrics = [\"accuracy\"])"
   ]
  },
  {
   "cell_type": "code",
   "execution_count": 20,
   "id": "962c8e26",
   "metadata": {
    "execution": {
     "iopub.execute_input": "2024-04-16T07:13:28.517651Z",
     "iopub.status.busy": "2024-04-16T07:13:28.517176Z",
     "iopub.status.idle": "2024-04-16T07:14:18.611133Z",
     "shell.execute_reply": "2024-04-16T07:14:18.609630Z"
    },
    "papermill": {
     "duration": 50.108416,
     "end_time": "2024-04-16T07:14:18.614131",
     "exception": false,
     "start_time": "2024-04-16T07:13:28.505715",
     "status": "completed"
    },
    "tags": []
   },
   "outputs": [
    {
     "name": "stdout",
     "output_type": "stream",
     "text": [
      "Epoch 1/100\n",
      "\u001b[1m200/200\u001b[0m \u001b[32m━━━━━━━━━━━━━━━━━━━━\u001b[0m\u001b[37m\u001b[0m \u001b[1m1s\u001b[0m 2ms/step - accuracy: 0.5662 - loss: 4.0265 - val_accuracy: 0.6300 - val_loss: 3.4151\n",
      "Epoch 2/100\n",
      "\u001b[1m200/200\u001b[0m \u001b[32m━━━━━━━━━━━━━━━━━━━━\u001b[0m\u001b[37m\u001b[0m \u001b[1m0s\u001b[0m 2ms/step - accuracy: 0.6652 - loss: 2.7490 - val_accuracy: 0.6862 - val_loss: 2.7436\n",
      "Epoch 3/100\n",
      "\u001b[1m200/200\u001b[0m \u001b[32m━━━━━━━━━━━━━━━━━━━━\u001b[0m\u001b[37m\u001b[0m \u001b[1m1s\u001b[0m 2ms/step - accuracy: 0.7068 - loss: 2.2086 - val_accuracy: 0.7331 - val_loss: 2.4354\n",
      "Epoch 4/100\n",
      "\u001b[1m200/200\u001b[0m \u001b[32m━━━━━━━━━━━━━━━━━━━━\u001b[0m\u001b[37m\u001b[0m \u001b[1m0s\u001b[0m 2ms/step - accuracy: 0.7493 - loss: 2.0318 - val_accuracy: 0.7369 - val_loss: 2.3685\n",
      "Epoch 5/100\n",
      "\u001b[1m200/200\u001b[0m \u001b[32m━━━━━━━━━━━━━━━━━━━━\u001b[0m\u001b[37m\u001b[0m \u001b[1m1s\u001b[0m 2ms/step - accuracy: 0.7545 - loss: 1.8667 - val_accuracy: 0.7444 - val_loss: 2.2014\n",
      "Epoch 6/100\n",
      "\u001b[1m200/200\u001b[0m \u001b[32m━━━━━━━━━━━━━━━━━━━━\u001b[0m\u001b[37m\u001b[0m \u001b[1m0s\u001b[0m 2ms/step - accuracy: 0.7623 - loss: 1.7865 - val_accuracy: 0.7425 - val_loss: 2.0561\n",
      "Epoch 7/100\n",
      "\u001b[1m200/200\u001b[0m \u001b[32m━━━━━━━━━━━━━━━━━━━━\u001b[0m\u001b[37m\u001b[0m \u001b[1m0s\u001b[0m 2ms/step - accuracy: 0.7594 - loss: 1.6153 - val_accuracy: 0.7450 - val_loss: 1.6898\n",
      "Epoch 8/100\n",
      "\u001b[1m200/200\u001b[0m \u001b[32m━━━━━━━━━━━━━━━━━━━━\u001b[0m\u001b[37m\u001b[0m \u001b[1m1s\u001b[0m 2ms/step - accuracy: 0.7599 - loss: 1.4164 - val_accuracy: 0.7513 - val_loss: 1.4805\n",
      "Epoch 9/100\n",
      "\u001b[1m200/200\u001b[0m \u001b[32m━━━━━━━━━━━━━━━━━━━━\u001b[0m\u001b[37m\u001b[0m \u001b[1m0s\u001b[0m 2ms/step - accuracy: 0.7660 - loss: 1.1127 - val_accuracy: 0.7594 - val_loss: 1.4305\n",
      "Epoch 10/100\n",
      "\u001b[1m200/200\u001b[0m \u001b[32m━━━━━━━━━━━━━━━━━━━━\u001b[0m\u001b[37m\u001b[0m \u001b[1m0s\u001b[0m 2ms/step - accuracy: 0.7699 - loss: 1.1480 - val_accuracy: 0.7375 - val_loss: 1.3451\n",
      "Epoch 11/100\n",
      "\u001b[1m200/200\u001b[0m \u001b[32m━━━━━━━━━━━━━━━━━━━━\u001b[0m\u001b[37m\u001b[0m \u001b[1m1s\u001b[0m 2ms/step - accuracy: 0.7410 - loss: 1.0595 - val_accuracy: 0.7350 - val_loss: 1.2869\n",
      "Epoch 12/100\n",
      "\u001b[1m200/200\u001b[0m \u001b[32m━━━━━━━━━━━━━━━━━━━━\u001b[0m\u001b[37m\u001b[0m \u001b[1m0s\u001b[0m 2ms/step - accuracy: 0.7493 - loss: 1.0504 - val_accuracy: 0.7444 - val_loss: 1.1286\n",
      "Epoch 13/100\n",
      "\u001b[1m200/200\u001b[0m \u001b[32m━━━━━━━━━━━━━━━━━━━━\u001b[0m\u001b[37m\u001b[0m \u001b[1m0s\u001b[0m 2ms/step - accuracy: 0.7711 - loss: 0.8760 - val_accuracy: 0.7469 - val_loss: 0.8879\n",
      "Epoch 14/100\n",
      "\u001b[1m200/200\u001b[0m \u001b[32m━━━━━━━━━━━━━━━━━━━━\u001b[0m\u001b[37m\u001b[0m \u001b[1m0s\u001b[0m 2ms/step - accuracy: 0.7447 - loss: 0.6984 - val_accuracy: 0.7469 - val_loss: 0.8369\n",
      "Epoch 15/100\n",
      "\u001b[1m200/200\u001b[0m \u001b[32m━━━━━━━━━━━━━━━━━━━━\u001b[0m\u001b[37m\u001b[0m \u001b[1m1s\u001b[0m 2ms/step - accuracy: 0.7575 - loss: 0.6957 - val_accuracy: 0.7544 - val_loss: 0.7190\n",
      "Epoch 16/100\n",
      "\u001b[1m200/200\u001b[0m \u001b[32m━━━━━━━━━━━━━━━━━━━━\u001b[0m\u001b[37m\u001b[0m \u001b[1m0s\u001b[0m 2ms/step - accuracy: 0.7627 - loss: 0.6286 - val_accuracy: 0.7706 - val_loss: 0.7190\n",
      "Epoch 17/100\n",
      "\u001b[1m200/200\u001b[0m \u001b[32m━━━━━━━━━━━━━━━━━━━━\u001b[0m\u001b[37m\u001b[0m \u001b[1m1s\u001b[0m 2ms/step - accuracy: 0.7847 - loss: 0.5776 - val_accuracy: 0.7681 - val_loss: 0.6719\n",
      "Epoch 18/100\n",
      "\u001b[1m200/200\u001b[0m \u001b[32m━━━━━━━━━━━━━━━━━━━━\u001b[0m\u001b[37m\u001b[0m \u001b[1m0s\u001b[0m 2ms/step - accuracy: 0.7928 - loss: 0.5692 - val_accuracy: 0.7750 - val_loss: 0.6682\n",
      "Epoch 19/100\n",
      "\u001b[1m200/200\u001b[0m \u001b[32m━━━━━━━━━━━━━━━━━━━━\u001b[0m\u001b[37m\u001b[0m \u001b[1m0s\u001b[0m 2ms/step - accuracy: 0.7956 - loss: 0.5947 - val_accuracy: 0.7763 - val_loss: 0.6268\n",
      "Epoch 20/100\n",
      "\u001b[1m200/200\u001b[0m \u001b[32m━━━━━━━━━━━━━━━━━━━━\u001b[0m\u001b[37m\u001b[0m \u001b[1m0s\u001b[0m 2ms/step - accuracy: 0.7873 - loss: 0.6075 - val_accuracy: 0.7825 - val_loss: 0.6463\n",
      "Epoch 21/100\n",
      "\u001b[1m200/200\u001b[0m \u001b[32m━━━━━━━━━━━━━━━━━━━━\u001b[0m\u001b[37m\u001b[0m \u001b[1m0s\u001b[0m 2ms/step - accuracy: 0.7993 - loss: 0.5244 - val_accuracy: 0.7738 - val_loss: 0.6346\n",
      "Epoch 22/100\n",
      "\u001b[1m200/200\u001b[0m \u001b[32m━━━━━━━━━━━━━━━━━━━━\u001b[0m\u001b[37m\u001b[0m \u001b[1m0s\u001b[0m 2ms/step - accuracy: 0.7977 - loss: 0.5352 - val_accuracy: 0.7856 - val_loss: 0.6255\n",
      "Epoch 23/100\n",
      "\u001b[1m200/200\u001b[0m \u001b[32m━━━━━━━━━━━━━━━━━━━━\u001b[0m\u001b[37m\u001b[0m \u001b[1m1s\u001b[0m 2ms/step - accuracy: 0.8043 - loss: 0.5232 - val_accuracy: 0.7906 - val_loss: 0.5951\n",
      "Epoch 24/100\n",
      "\u001b[1m200/200\u001b[0m \u001b[32m━━━━━━━━━━━━━━━━━━━━\u001b[0m\u001b[37m\u001b[0m \u001b[1m1s\u001b[0m 2ms/step - accuracy: 0.8043 - loss: 0.5546 - val_accuracy: 0.7925 - val_loss: 0.5871\n",
      "Epoch 25/100\n",
      "\u001b[1m200/200\u001b[0m \u001b[32m━━━━━━━━━━━━━━━━━━━━\u001b[0m\u001b[37m\u001b[0m \u001b[1m0s\u001b[0m 2ms/step - accuracy: 0.8108 - loss: 0.5106 - val_accuracy: 0.7956 - val_loss: 0.5928\n",
      "Epoch 26/100\n",
      "\u001b[1m200/200\u001b[0m \u001b[32m━━━━━━━━━━━━━━━━━━━━\u001b[0m\u001b[37m\u001b[0m \u001b[1m0s\u001b[0m 2ms/step - accuracy: 0.8069 - loss: 0.5520 - val_accuracy: 0.7956 - val_loss: 0.5744\n",
      "Epoch 27/100\n",
      "\u001b[1m200/200\u001b[0m \u001b[32m━━━━━━━━━━━━━━━━━━━━\u001b[0m\u001b[37m\u001b[0m \u001b[1m0s\u001b[0m 2ms/step - accuracy: 0.8165 - loss: 0.5079 - val_accuracy: 0.7956 - val_loss: 0.5919\n",
      "Epoch 28/100\n",
      "\u001b[1m200/200\u001b[0m \u001b[32m━━━━━━━━━━━━━━━━━━━━\u001b[0m\u001b[37m\u001b[0m \u001b[1m1s\u001b[0m 2ms/step - accuracy: 0.8123 - loss: 0.5194 - val_accuracy: 0.7981 - val_loss: 0.5582\n",
      "Epoch 29/100\n",
      "\u001b[1m200/200\u001b[0m \u001b[32m━━━━━━━━━━━━━━━━━━━━\u001b[0m\u001b[37m\u001b[0m \u001b[1m1s\u001b[0m 2ms/step - accuracy: 0.8163 - loss: 0.4735 - val_accuracy: 0.7650 - val_loss: 0.5705\n",
      "Epoch 30/100\n",
      "\u001b[1m200/200\u001b[0m \u001b[32m━━━━━━━━━━━━━━━━━━━━\u001b[0m\u001b[37m\u001b[0m \u001b[1m1s\u001b[0m 2ms/step - accuracy: 0.7987 - loss: 0.4960 - val_accuracy: 0.7906 - val_loss: 0.5525\n",
      "Epoch 31/100\n",
      "\u001b[1m200/200\u001b[0m \u001b[32m━━━━━━━━━━━━━━━━━━━━\u001b[0m\u001b[37m\u001b[0m \u001b[1m1s\u001b[0m 2ms/step - accuracy: 0.8079 - loss: 0.4993 - val_accuracy: 0.7950 - val_loss: 0.5789\n",
      "Epoch 32/100\n",
      "\u001b[1m200/200\u001b[0m \u001b[32m━━━━━━━━━━━━━━━━━━━━\u001b[0m\u001b[37m\u001b[0m \u001b[1m1s\u001b[0m 2ms/step - accuracy: 0.8194 - loss: 0.4722 - val_accuracy: 0.7987 - val_loss: 0.5758\n",
      "Epoch 33/100\n",
      "\u001b[1m200/200\u001b[0m \u001b[32m━━━━━━━━━━━━━━━━━━━━\u001b[0m\u001b[37m\u001b[0m \u001b[1m1s\u001b[0m 2ms/step - accuracy: 0.8206 - loss: 0.4651 - val_accuracy: 0.8006 - val_loss: 0.5587\n",
      "Epoch 34/100\n",
      "\u001b[1m200/200\u001b[0m \u001b[32m━━━━━━━━━━━━━━━━━━━━\u001b[0m\u001b[37m\u001b[0m \u001b[1m0s\u001b[0m 2ms/step - accuracy: 0.8093 - loss: 0.4877 - val_accuracy: 0.8000 - val_loss: 0.5509\n",
      "Epoch 35/100\n",
      "\u001b[1m200/200\u001b[0m \u001b[32m━━━━━━━━━━━━━━━━━━━━\u001b[0m\u001b[37m\u001b[0m \u001b[1m1s\u001b[0m 2ms/step - accuracy: 0.8300 - loss: 0.4680 - val_accuracy: 0.8031 - val_loss: 0.5596\n",
      "Epoch 36/100\n",
      "\u001b[1m200/200\u001b[0m \u001b[32m━━━━━━━━━━━━━━━━━━━━\u001b[0m\u001b[37m\u001b[0m \u001b[1m0s\u001b[0m 2ms/step - accuracy: 0.8049 - loss: 0.4886 - val_accuracy: 0.8062 - val_loss: 0.4948\n",
      "Epoch 37/100\n",
      "\u001b[1m200/200\u001b[0m \u001b[32m━━━━━━━━━━━━━━━━━━━━\u001b[0m\u001b[37m\u001b[0m \u001b[1m0s\u001b[0m 2ms/step - accuracy: 0.8236 - loss: 0.4362 - val_accuracy: 0.8087 - val_loss: 0.5037\n",
      "Epoch 38/100\n",
      "\u001b[1m200/200\u001b[0m \u001b[32m━━━━━━━━━━━━━━━━━━━━\u001b[0m\u001b[37m\u001b[0m \u001b[1m0s\u001b[0m 2ms/step - accuracy: 0.8159 - loss: 0.4789 - val_accuracy: 0.8087 - val_loss: 0.4949\n",
      "Epoch 39/100\n",
      "\u001b[1m200/200\u001b[0m \u001b[32m━━━━━━━━━━━━━━━━━━━━\u001b[0m\u001b[37m\u001b[0m \u001b[1m0s\u001b[0m 2ms/step - accuracy: 0.8253 - loss: 0.4606 - val_accuracy: 0.8106 - val_loss: 0.5320\n",
      "Epoch 40/100\n",
      "\u001b[1m200/200\u001b[0m \u001b[32m━━━━━━━━━━━━━━━━━━━━\u001b[0m\u001b[37m\u001b[0m \u001b[1m1s\u001b[0m 2ms/step - accuracy: 0.8206 - loss: 0.4692 - val_accuracy: 0.8131 - val_loss: 0.5378\n",
      "Epoch 41/100\n",
      "\u001b[1m200/200\u001b[0m \u001b[32m━━━━━━━━━━━━━━━━━━━━\u001b[0m\u001b[37m\u001b[0m \u001b[1m1s\u001b[0m 2ms/step - accuracy: 0.8252 - loss: 0.4509 - val_accuracy: 0.8094 - val_loss: 0.5375\n",
      "Epoch 42/100\n",
      "\u001b[1m200/200\u001b[0m \u001b[32m━━━━━━━━━━━━━━━━━━━━\u001b[0m\u001b[37m\u001b[0m \u001b[1m0s\u001b[0m 2ms/step - accuracy: 0.7999 - loss: 0.4521 - val_accuracy: 0.7900 - val_loss: 0.5384\n",
      "Epoch 43/100\n",
      "\u001b[1m200/200\u001b[0m \u001b[32m━━━━━━━━━━━━━━━━━━━━\u001b[0m\u001b[37m\u001b[0m \u001b[1m1s\u001b[0m 2ms/step - accuracy: 0.7906 - loss: 0.4953 - val_accuracy: 0.7962 - val_loss: 0.5289\n",
      "Epoch 44/100\n",
      "\u001b[1m200/200\u001b[0m \u001b[32m━━━━━━━━━━━━━━━━━━━━\u001b[0m\u001b[37m\u001b[0m \u001b[1m1s\u001b[0m 2ms/step - accuracy: 0.8124 - loss: 0.4712 - val_accuracy: 0.8081 - val_loss: 0.5401\n",
      "Epoch 45/100\n",
      "\u001b[1m200/200\u001b[0m \u001b[32m━━━━━━━━━━━━━━━━━━━━\u001b[0m\u001b[37m\u001b[0m \u001b[1m0s\u001b[0m 2ms/step - accuracy: 0.8239 - loss: 0.4618 - val_accuracy: 0.8156 - val_loss: 0.5221\n",
      "Epoch 46/100\n",
      "\u001b[1m200/200\u001b[0m \u001b[32m━━━━━━━━━━━━━━━━━━━━\u001b[0m\u001b[37m\u001b[0m \u001b[1m0s\u001b[0m 2ms/step - accuracy: 0.8284 - loss: 0.4691 - val_accuracy: 0.8150 - val_loss: 0.5256\n",
      "Epoch 47/100\n",
      "\u001b[1m200/200\u001b[0m \u001b[32m━━━━━━━━━━━━━━━━━━━━\u001b[0m\u001b[37m\u001b[0m \u001b[1m0s\u001b[0m 2ms/step - accuracy: 0.8312 - loss: 0.4490 - val_accuracy: 0.8125 - val_loss: 0.5292\n",
      "Epoch 48/100\n",
      "\u001b[1m200/200\u001b[0m \u001b[32m━━━━━━━━━━━━━━━━━━━━\u001b[0m\u001b[37m\u001b[0m \u001b[1m1s\u001b[0m 2ms/step - accuracy: 0.8239 - loss: 0.4933 - val_accuracy: 0.8156 - val_loss: 0.5247\n",
      "Epoch 49/100\n",
      "\u001b[1m200/200\u001b[0m \u001b[32m━━━━━━━━━━━━━━━━━━━━\u001b[0m\u001b[37m\u001b[0m \u001b[1m0s\u001b[0m 2ms/step - accuracy: 0.8272 - loss: 0.4765 - val_accuracy: 0.8169 - val_loss: 0.5053\n",
      "Epoch 50/100\n",
      "\u001b[1m200/200\u001b[0m \u001b[32m━━━━━━━━━━━━━━━━━━━━\u001b[0m\u001b[37m\u001b[0m \u001b[1m1s\u001b[0m 2ms/step - accuracy: 0.8250 - loss: 0.4584 - val_accuracy: 0.8087 - val_loss: 0.5108\n",
      "Epoch 51/100\n",
      "\u001b[1m200/200\u001b[0m \u001b[32m━━━━━━━━━━━━━━━━━━━━\u001b[0m\u001b[37m\u001b[0m \u001b[1m1s\u001b[0m 2ms/step - accuracy: 0.8240 - loss: 0.4336 - val_accuracy: 0.8094 - val_loss: 0.4990\n",
      "Epoch 52/100\n",
      "\u001b[1m200/200\u001b[0m \u001b[32m━━━━━━━━━━━━━━━━━━━━\u001b[0m\u001b[37m\u001b[0m \u001b[1m1s\u001b[0m 2ms/step - accuracy: 0.8279 - loss: 0.4629 - val_accuracy: 0.8100 - val_loss: 0.5127\n",
      "Epoch 53/100\n",
      "\u001b[1m200/200\u001b[0m \u001b[32m━━━━━━━━━━━━━━━━━━━━\u001b[0m\u001b[37m\u001b[0m \u001b[1m0s\u001b[0m 2ms/step - accuracy: 0.8324 - loss: 0.4516 - val_accuracy: 0.8138 - val_loss: 0.5172\n",
      "Epoch 54/100\n",
      "\u001b[1m200/200\u001b[0m \u001b[32m━━━━━━━━━━━━━━━━━━━━\u001b[0m\u001b[37m\u001b[0m \u001b[1m1s\u001b[0m 2ms/step - accuracy: 0.8355 - loss: 0.4368 - val_accuracy: 0.8144 - val_loss: 0.5222\n",
      "Epoch 55/100\n",
      "\u001b[1m200/200\u001b[0m \u001b[32m━━━━━━━━━━━━━━━━━━━━\u001b[0m\u001b[37m\u001b[0m \u001b[1m0s\u001b[0m 2ms/step - accuracy: 0.8377 - loss: 0.4425 - val_accuracy: 0.8131 - val_loss: 0.5150\n",
      "Epoch 56/100\n",
      "\u001b[1m200/200\u001b[0m \u001b[32m━━━━━━━━━━━━━━━━━━━━\u001b[0m\u001b[37m\u001b[0m \u001b[1m1s\u001b[0m 2ms/step - accuracy: 0.8290 - loss: 0.4507 - val_accuracy: 0.8150 - val_loss: 0.5125\n",
      "Epoch 57/100\n",
      "\u001b[1m200/200\u001b[0m \u001b[32m━━━━━━━━━━━━━━━━━━━━\u001b[0m\u001b[37m\u001b[0m \u001b[1m0s\u001b[0m 2ms/step - accuracy: 0.8297 - loss: 0.4625 - val_accuracy: 0.8119 - val_loss: 0.4805\n",
      "Epoch 58/100\n",
      "\u001b[1m200/200\u001b[0m \u001b[32m━━━━━━━━━━━━━━━━━━━━\u001b[0m\u001b[37m\u001b[0m \u001b[1m0s\u001b[0m 2ms/step - accuracy: 0.8284 - loss: 0.4459 - val_accuracy: 0.8106 - val_loss: 0.4614\n",
      "Epoch 59/100\n",
      "\u001b[1m200/200\u001b[0m \u001b[32m━━━━━━━━━━━━━━━━━━━━\u001b[0m\u001b[37m\u001b[0m \u001b[1m1s\u001b[0m 2ms/step - accuracy: 0.8299 - loss: 0.4501 - val_accuracy: 0.8156 - val_loss: 0.4685\n",
      "Epoch 60/100\n",
      "\u001b[1m200/200\u001b[0m \u001b[32m━━━━━━━━━━━━━━━━━━━━\u001b[0m\u001b[37m\u001b[0m \u001b[1m1s\u001b[0m 2ms/step - accuracy: 0.8309 - loss: 0.4366 - val_accuracy: 0.8156 - val_loss: 0.4663\n",
      "Epoch 61/100\n",
      "\u001b[1m200/200\u001b[0m \u001b[32m━━━━━━━━━━━━━━━━━━━━\u001b[0m\u001b[37m\u001b[0m \u001b[1m1s\u001b[0m 2ms/step - accuracy: 0.8367 - loss: 0.4442 - val_accuracy: 0.8056 - val_loss: 0.4576\n",
      "Epoch 62/100\n",
      "\u001b[1m200/200\u001b[0m \u001b[32m━━━━━━━━━━━━━━━━━━━━\u001b[0m\u001b[37m\u001b[0m \u001b[1m0s\u001b[0m 2ms/step - accuracy: 0.8167 - loss: 0.4482 - val_accuracy: 0.8031 - val_loss: 0.4531\n",
      "Epoch 63/100\n",
      "\u001b[1m200/200\u001b[0m \u001b[32m━━━━━━━━━━━━━━━━━━━━\u001b[0m\u001b[37m\u001b[0m \u001b[1m0s\u001b[0m 2ms/step - accuracy: 0.8223 - loss: 0.4392 - val_accuracy: 0.8044 - val_loss: 0.4504\n",
      "Epoch 64/100\n",
      "\u001b[1m200/200\u001b[0m \u001b[32m━━━━━━━━━━━━━━━━━━━━\u001b[0m\u001b[37m\u001b[0m \u001b[1m0s\u001b[0m 2ms/step - accuracy: 0.8239 - loss: 0.4337 - val_accuracy: 0.8062 - val_loss: 0.4612\n",
      "Epoch 65/100\n",
      "\u001b[1m200/200\u001b[0m \u001b[32m━━━━━━━━━━━━━━━━━━━━\u001b[0m\u001b[37m\u001b[0m \u001b[1m1s\u001b[0m 2ms/step - accuracy: 0.8307 - loss: 0.4246 - val_accuracy: 0.8056 - val_loss: 0.4575\n",
      "Epoch 66/100\n",
      "\u001b[1m200/200\u001b[0m \u001b[32m━━━━━━━━━━━━━━━━━━━━\u001b[0m\u001b[37m\u001b[0m \u001b[1m0s\u001b[0m 2ms/step - accuracy: 0.8246 - loss: 0.4341 - val_accuracy: 0.8087 - val_loss: 0.4517\n",
      "Epoch 67/100\n",
      "\u001b[1m200/200\u001b[0m \u001b[32m━━━━━━━━━━━━━━━━━━━━\u001b[0m\u001b[37m\u001b[0m \u001b[1m1s\u001b[0m 2ms/step - accuracy: 0.8311 - loss: 0.4107 - val_accuracy: 0.8106 - val_loss: 0.4572\n",
      "Epoch 68/100\n",
      "\u001b[1m200/200\u001b[0m \u001b[32m━━━━━━━━━━━━━━━━━━━━\u001b[0m\u001b[37m\u001b[0m \u001b[1m0s\u001b[0m 2ms/step - accuracy: 0.8356 - loss: 0.4198 - val_accuracy: 0.8150 - val_loss: 0.4610\n",
      "Epoch 69/100\n",
      "\u001b[1m200/200\u001b[0m \u001b[32m━━━━━━━━━━━━━━━━━━━━\u001b[0m\u001b[37m\u001b[0m \u001b[1m1s\u001b[0m 2ms/step - accuracy: 0.8324 - loss: 0.4267 - val_accuracy: 0.8094 - val_loss: 0.4414\n",
      "Epoch 70/100\n",
      "\u001b[1m200/200\u001b[0m \u001b[32m━━━━━━━━━━━━━━━━━━━━\u001b[0m\u001b[37m\u001b[0m \u001b[1m1s\u001b[0m 2ms/step - accuracy: 0.8257 - loss: 0.4256 - val_accuracy: 0.8175 - val_loss: 0.4497\n",
      "Epoch 71/100\n",
      "\u001b[1m200/200\u001b[0m \u001b[32m━━━━━━━━━━━━━━━━━━━━\u001b[0m\u001b[37m\u001b[0m \u001b[1m0s\u001b[0m 2ms/step - accuracy: 0.8389 - loss: 0.4011 - val_accuracy: 0.8181 - val_loss: 0.4416\n",
      "Epoch 72/100\n",
      "\u001b[1m200/200\u001b[0m \u001b[32m━━━━━━━━━━━━━━━━━━━━\u001b[0m\u001b[37m\u001b[0m \u001b[1m0s\u001b[0m 2ms/step - accuracy: 0.8298 - loss: 0.4345 - val_accuracy: 0.8225 - val_loss: 0.4475\n",
      "Epoch 73/100\n",
      "\u001b[1m200/200\u001b[0m \u001b[32m━━━━━━━━━━━━━━━━━━━━\u001b[0m\u001b[37m\u001b[0m \u001b[1m0s\u001b[0m 2ms/step - accuracy: 0.8434 - loss: 0.4044 - val_accuracy: 0.8213 - val_loss: 0.4394\n",
      "Epoch 74/100\n",
      "\u001b[1m200/200\u001b[0m \u001b[32m━━━━━━━━━━━━━━━━━━━━\u001b[0m\u001b[37m\u001b[0m \u001b[1m0s\u001b[0m 2ms/step - accuracy: 0.8405 - loss: 0.4142 - val_accuracy: 0.8206 - val_loss: 0.4386\n",
      "Epoch 75/100\n",
      "\u001b[1m200/200\u001b[0m \u001b[32m━━━━━━━━━━━━━━━━━━━━\u001b[0m\u001b[37m\u001b[0m \u001b[1m1s\u001b[0m 2ms/step - accuracy: 0.8372 - loss: 0.3879 - val_accuracy: 0.8250 - val_loss: 0.4376\n",
      "Epoch 76/100\n",
      "\u001b[1m200/200\u001b[0m \u001b[32m━━━━━━━━━━━━━━━━━━━━\u001b[0m\u001b[37m\u001b[0m \u001b[1m1s\u001b[0m 2ms/step - accuracy: 0.8427 - loss: 0.4104 - val_accuracy: 0.8200 - val_loss: 0.4398\n",
      "Epoch 77/100\n",
      "\u001b[1m200/200\u001b[0m \u001b[32m━━━━━━━━━━━━━━━━━━━━\u001b[0m\u001b[37m\u001b[0m \u001b[1m1s\u001b[0m 2ms/step - accuracy: 0.8315 - loss: 0.4201 - val_accuracy: 0.8100 - val_loss: 0.4590\n",
      "Epoch 78/100\n",
      "\u001b[1m200/200\u001b[0m \u001b[32m━━━━━━━━━━━━━━━━━━━━\u001b[0m\u001b[37m\u001b[0m \u001b[1m0s\u001b[0m 2ms/step - accuracy: 0.8304 - loss: 0.4314 - val_accuracy: 0.8225 - val_loss: 0.4677\n",
      "Epoch 79/100\n",
      "\u001b[1m200/200\u001b[0m \u001b[32m━━━━━━━━━━━━━━━━━━━━\u001b[0m\u001b[37m\u001b[0m \u001b[1m1s\u001b[0m 2ms/step - accuracy: 0.8423 - loss: 0.3922 - val_accuracy: 0.8269 - val_loss: 0.4435\n",
      "Epoch 80/100\n",
      "\u001b[1m200/200\u001b[0m \u001b[32m━━━━━━━━━━━━━━━━━━━━\u001b[0m\u001b[37m\u001b[0m \u001b[1m0s\u001b[0m 2ms/step - accuracy: 0.8321 - loss: 0.4232 - val_accuracy: 0.8300 - val_loss: 0.4497\n",
      "Epoch 81/100\n",
      "\u001b[1m200/200\u001b[0m \u001b[32m━━━━━━━━━━━━━━━━━━━━\u001b[0m\u001b[37m\u001b[0m \u001b[1m0s\u001b[0m 2ms/step - accuracy: 0.8448 - loss: 0.4060 - val_accuracy: 0.8288 - val_loss: 0.4491\n",
      "Epoch 82/100\n",
      "\u001b[1m200/200\u001b[0m \u001b[32m━━━━━━━━━━━━━━━━━━━━\u001b[0m\u001b[37m\u001b[0m \u001b[1m0s\u001b[0m 2ms/step - accuracy: 0.8457 - loss: 0.4077 - val_accuracy: 0.8281 - val_loss: 0.4882\n",
      "Epoch 83/100\n",
      "\u001b[1m200/200\u001b[0m \u001b[32m━━━━━━━━━━━━━━━━━━━━\u001b[0m\u001b[37m\u001b[0m \u001b[1m0s\u001b[0m 2ms/step - accuracy: 0.8413 - loss: 0.4054 - val_accuracy: 0.8306 - val_loss: 0.4494\n",
      "Epoch 84/100\n",
      "\u001b[1m200/200\u001b[0m \u001b[32m━━━━━━━━━━━━━━━━━━━━\u001b[0m\u001b[37m\u001b[0m \u001b[1m0s\u001b[0m 2ms/step - accuracy: 0.8394 - loss: 0.4208 - val_accuracy: 0.8263 - val_loss: 0.4708\n",
      "Epoch 85/100\n",
      "\u001b[1m200/200\u001b[0m \u001b[32m━━━━━━━━━━━━━━━━━━━━\u001b[0m\u001b[37m\u001b[0m \u001b[1m1s\u001b[0m 2ms/step - accuracy: 0.8412 - loss: 0.4032 - val_accuracy: 0.8250 - val_loss: 0.4669\n",
      "Epoch 86/100\n",
      "\u001b[1m200/200\u001b[0m \u001b[32m━━━━━━━━━━━━━━━━━━━━\u001b[0m\u001b[37m\u001b[0m \u001b[1m1s\u001b[0m 2ms/step - accuracy: 0.8395 - loss: 0.4234 - val_accuracy: 0.8144 - val_loss: 0.4604\n",
      "Epoch 87/100\n",
      "\u001b[1m200/200\u001b[0m \u001b[32m━━━━━━━━━━━━━━━━━━━━\u001b[0m\u001b[37m\u001b[0m \u001b[1m0s\u001b[0m 2ms/step - accuracy: 0.8383 - loss: 0.4228 - val_accuracy: 0.8131 - val_loss: 0.4667\n",
      "Epoch 88/100\n",
      "\u001b[1m200/200\u001b[0m \u001b[32m━━━━━━━━━━━━━━━━━━━━\u001b[0m\u001b[37m\u001b[0m \u001b[1m0s\u001b[0m 2ms/step - accuracy: 0.8284 - loss: 0.4121 - val_accuracy: 0.8244 - val_loss: 0.4422\n",
      "Epoch 89/100\n",
      "\u001b[1m200/200\u001b[0m \u001b[32m━━━━━━━━━━━━━━━━━━━━\u001b[0m\u001b[37m\u001b[0m \u001b[1m0s\u001b[0m 2ms/step - accuracy: 0.8406 - loss: 0.3956 - val_accuracy: 0.8256 - val_loss: 0.4410\n",
      "Epoch 90/100\n",
      "\u001b[1m200/200\u001b[0m \u001b[32m━━━━━━━━━━━━━━━━━━━━\u001b[0m\u001b[37m\u001b[0m \u001b[1m1s\u001b[0m 2ms/step - accuracy: 0.8369 - loss: 0.4232 - val_accuracy: 0.8319 - val_loss: 0.4462\n",
      "Epoch 91/100\n",
      "\u001b[1m200/200\u001b[0m \u001b[32m━━━━━━━━━━━━━━━━━━━━\u001b[0m\u001b[37m\u001b[0m \u001b[1m1s\u001b[0m 2ms/step - accuracy: 0.8439 - loss: 0.4084 - val_accuracy: 0.8225 - val_loss: 0.4636\n",
      "Epoch 92/100\n",
      "\u001b[1m200/200\u001b[0m \u001b[32m━━━━━━━━━━━━━━━━━━━━\u001b[0m\u001b[37m\u001b[0m \u001b[1m0s\u001b[0m 2ms/step - accuracy: 0.8288 - loss: 0.4472 - val_accuracy: 0.8275 - val_loss: 0.4613\n",
      "Epoch 93/100\n",
      "\u001b[1m200/200\u001b[0m \u001b[32m━━━━━━━━━━━━━━━━━━━━\u001b[0m\u001b[37m\u001b[0m \u001b[1m1s\u001b[0m 2ms/step - accuracy: 0.8375 - loss: 0.3963 - val_accuracy: 0.8338 - val_loss: 0.4547\n",
      "Epoch 94/100\n",
      "\u001b[1m200/200\u001b[0m \u001b[32m━━━━━━━━━━━━━━━━━━━━\u001b[0m\u001b[37m\u001b[0m \u001b[1m1s\u001b[0m 2ms/step - accuracy: 0.8440 - loss: 0.3851 - val_accuracy: 0.8263 - val_loss: 0.4724\n",
      "Epoch 95/100\n",
      "\u001b[1m200/200\u001b[0m \u001b[32m━━━━━━━━━━━━━━━━━━━━\u001b[0m\u001b[37m\u001b[0m \u001b[1m1s\u001b[0m 2ms/step - accuracy: 0.8480 - loss: 0.3842 - val_accuracy: 0.8263 - val_loss: 0.4630\n",
      "Epoch 96/100\n",
      "\u001b[1m200/200\u001b[0m \u001b[32m━━━━━━━━━━━━━━━━━━━━\u001b[0m\u001b[37m\u001b[0m \u001b[1m1s\u001b[0m 2ms/step - accuracy: 0.8455 - loss: 0.3848 - val_accuracy: 0.8313 - val_loss: 0.4274\n",
      "Epoch 97/100\n",
      "\u001b[1m200/200\u001b[0m \u001b[32m━━━━━━━━━━━━━━━━━━━━\u001b[0m\u001b[37m\u001b[0m \u001b[1m1s\u001b[0m 2ms/step - accuracy: 0.8467 - loss: 0.3870 - val_accuracy: 0.8269 - val_loss: 0.4168\n",
      "Epoch 98/100\n",
      "\u001b[1m200/200\u001b[0m \u001b[32m━━━━━━━━━━━━━━━━━━━━\u001b[0m\u001b[37m\u001b[0m \u001b[1m0s\u001b[0m 2ms/step - accuracy: 0.8326 - loss: 0.4097 - val_accuracy: 0.8338 - val_loss: 0.4399\n",
      "Epoch 99/100\n",
      "\u001b[1m200/200\u001b[0m \u001b[32m━━━━━━━━━━━━━━━━━━━━\u001b[0m\u001b[37m\u001b[0m \u001b[1m1s\u001b[0m 2ms/step - accuracy: 0.8380 - loss: 0.4051 - val_accuracy: 0.8319 - val_loss: 0.4687\n",
      "Epoch 100/100\n",
      "\u001b[1m200/200\u001b[0m \u001b[32m━━━━━━━━━━━━━━━━━━━━\u001b[0m\u001b[37m\u001b[0m \u001b[1m0s\u001b[0m 2ms/step - accuracy: 0.8393 - loss: 0.4234 - val_accuracy: 0.8394 - val_loss: 0.4410\n"
     ]
    }
   ],
   "source": [
    "history = model.fit(X_train_scaled,y_train,epochs = 100,validation_split =0.2)"
   ]
  },
  {
   "cell_type": "code",
   "execution_count": 21,
   "id": "14971fee",
   "metadata": {
    "execution": {
     "iopub.execute_input": "2024-04-16T07:14:18.740551Z",
     "iopub.status.busy": "2024-04-16T07:14:18.740070Z",
     "iopub.status.idle": "2024-04-16T07:14:18.755047Z",
     "shell.execute_reply": "2024-04-16T07:14:18.753470Z"
    },
    "papermill": {
     "duration": 0.083287,
     "end_time": "2024-04-16T07:14:18.757549",
     "exception": false,
     "start_time": "2024-04-16T07:14:18.674262",
     "status": "completed"
    },
    "tags": []
   },
   "outputs": [
    {
     "data": {
      "text/plain": [
       "[array([[-0.35203353,  0.01641772,  0.09825382,  0.03631517,  0.23994708,\n",
       "          0.33868074,  0.14317511, -0.4077748 , -0.15638098,  0.25081632,\n",
       "         -0.11585618],\n",
       "        [ 0.2931745 , -0.44987717, -0.19641882,  0.1005481 , -0.182015  ,\n",
       "         -0.57123995, -0.25886017,  0.45079207,  0.53699285,  0.11069325,\n",
       "         -0.26668236],\n",
       "        [-0.3356404 ,  0.19834067,  0.00265497, -0.13867569,  0.20174156,\n",
       "          0.21283363, -0.3330155 , -0.35324126, -0.20107536,  0.13472183,\n",
       "          0.42573112],\n",
       "        [-0.11228164,  0.37670437,  0.39953253, -0.7185845 ,  0.3064645 ,\n",
       "          0.2013409 ,  0.25353092,  0.04503931, -0.20020933,  0.43344298,\n",
       "          0.12941106],\n",
       "        [ 0.36728063,  0.10614663,  0.8770397 , -0.6029995 , -0.63828254,\n",
       "         -0.09313525,  0.12490362,  0.20847562, -0.031708  , -0.13838564,\n",
       "         -0.02718586],\n",
       "        [ 0.2234734 , -0.03599954,  0.18237737,  0.24424061,  0.10246404,\n",
       "          0.16869827,  0.26850235, -0.01230224,  0.20442213, -0.00556154,\n",
       "         -0.29161677],\n",
       "        [ 0.22255576,  0.08584627,  0.06011733, -0.02308569, -0.08124451,\n",
       "         -0.15996286,  0.4488015 ,  0.17443311, -0.4266916 ,  0.8263667 ,\n",
       "          0.2509772 ],\n",
       "        [ 0.01469072,  0.07346376, -0.11259534, -0.2539809 , -0.05448979,\n",
       "         -0.24656348, -0.13031283,  0.08026216,  0.09964617,  0.25279748,\n",
       "          0.25448936],\n",
       "        [-0.5377543 , -0.04295823, -0.19597845, -0.4732466 ,  0.31110293,\n",
       "          0.19251268, -0.1387506 , -0.36037105,  0.25768933,  0.35817713,\n",
       "          0.12097136],\n",
       "        [ 0.3171778 , -0.27044785, -0.16222847, -0.04855815, -0.24324267,\n",
       "         -0.42848462,  0.4315839 ,  0.40704036,  0.21479942,  0.00571769,\n",
       "         -0.25268608],\n",
       "        [ 0.21823707, -0.14288303, -0.16594999, -0.06490174, -0.19056502,\n",
       "         -0.13496941, -0.42501304,  0.22784825,  0.11870037,  0.01685039,\n",
       "         -0.26863545]], dtype=float32),\n",
       " array([-0.00164603,  0.26593393, -0.16744989, -0.19529879,  0.00804952,\n",
       "         0.11799888, -0.12867531,  0.02871353, -0.3106051 , -0.02970165,\n",
       "        -0.07767955], dtype=float32)]"
      ]
     },
     "execution_count": 21,
     "metadata": {},
     "output_type": "execute_result"
    }
   ],
   "source": [
    "model.layers[0].get_weights()"
   ]
  },
  {
   "cell_type": "code",
   "execution_count": 22,
   "id": "dc0a5290",
   "metadata": {
    "execution": {
     "iopub.execute_input": "2024-04-16T07:14:18.877500Z",
     "iopub.status.busy": "2024-04-16T07:14:18.877032Z",
     "iopub.status.idle": "2024-04-16T07:14:18.888014Z",
     "shell.execute_reply": "2024-04-16T07:14:18.886913Z"
    },
    "papermill": {
     "duration": 0.073581,
     "end_time": "2024-04-16T07:14:18.890393",
     "exception": false,
     "start_time": "2024-04-16T07:14:18.816812",
     "status": "completed"
    },
    "tags": []
   },
   "outputs": [
    {
     "data": {
      "text/plain": [
       "[array([[-0.27222955],\n",
       "        [-0.30991405],\n",
       "        [ 0.47396466],\n",
       "        [ 0.17124178],\n",
       "        [ 0.48590124],\n",
       "        [-0.26969436],\n",
       "        [ 0.06688465],\n",
       "        [ 0.2559143 ],\n",
       "        [ 0.09837176],\n",
       "        [-0.08553573],\n",
       "        [ 0.13510832]], dtype=float32),\n",
       " array([0.06775052], dtype=float32)]"
      ]
     },
     "execution_count": 22,
     "metadata": {},
     "output_type": "execute_result"
    }
   ],
   "source": [
    "model.layers[1].get_weights()"
   ]
  },
  {
   "cell_type": "code",
   "execution_count": 23,
   "id": "b9ea6a0a",
   "metadata": {
    "execution": {
     "iopub.execute_input": "2024-04-16T07:14:19.085919Z",
     "iopub.status.busy": "2024-04-16T07:14:19.085494Z",
     "iopub.status.idle": "2024-04-16T07:14:19.332139Z",
     "shell.execute_reply": "2024-04-16T07:14:19.330952Z"
    },
    "papermill": {
     "duration": 0.312143,
     "end_time": "2024-04-16T07:14:19.335099",
     "exception": false,
     "start_time": "2024-04-16T07:14:19.022956",
     "status": "completed"
    },
    "tags": []
   },
   "outputs": [
    {
     "name": "stdout",
     "output_type": "stream",
     "text": [
      "\u001b[1m63/63\u001b[0m \u001b[32m━━━━━━━━━━━━━━━━━━━━\u001b[0m\u001b[37m\u001b[0m \u001b[1m0s\u001b[0m 1ms/step  \n"
     ]
    }
   ],
   "source": [
    "y_log = model.predict(X_test_scaled)"
   ]
  },
  {
   "cell_type": "code",
   "execution_count": 24,
   "id": "d55efc75",
   "metadata": {
    "execution": {
     "iopub.execute_input": "2024-04-16T07:14:19.458700Z",
     "iopub.status.busy": "2024-04-16T07:14:19.458305Z",
     "iopub.status.idle": "2024-04-16T07:14:19.463550Z",
     "shell.execute_reply": "2024-04-16T07:14:19.462730Z"
    },
    "papermill": {
     "duration": 0.069131,
     "end_time": "2024-04-16T07:14:19.465691",
     "exception": false,
     "start_time": "2024-04-16T07:14:19.396560",
     "status": "completed"
    },
    "tags": []
   },
   "outputs": [],
   "source": [
    "y_pred= np.where(y_log>0.5,1,0)"
   ]
  },
  {
   "cell_type": "code",
   "execution_count": 25,
   "id": "755ac9d1",
   "metadata": {
    "execution": {
     "iopub.execute_input": "2024-04-16T07:14:19.588807Z",
     "iopub.status.busy": "2024-04-16T07:14:19.588207Z",
     "iopub.status.idle": "2024-04-16T07:14:19.597308Z",
     "shell.execute_reply": "2024-04-16T07:14:19.595994Z"
    },
    "papermill": {
     "duration": 0.073264,
     "end_time": "2024-04-16T07:14:19.600094",
     "exception": false,
     "start_time": "2024-04-16T07:14:19.526830",
     "status": "completed"
    },
    "tags": []
   },
   "outputs": [
    {
     "data": {
      "text/plain": [
       "0.835"
      ]
     },
     "execution_count": 25,
     "metadata": {},
     "output_type": "execute_result"
    }
   ],
   "source": [
    "from sklearn.metrics import accuracy_score\n",
    "accuracy_score(y_test,y_pred)"
   ]
  },
  {
   "cell_type": "code",
   "execution_count": 26,
   "id": "291b5d3c",
   "metadata": {
    "execution": {
     "iopub.execute_input": "2024-04-16T07:14:19.725314Z",
     "iopub.status.busy": "2024-04-16T07:14:19.724937Z",
     "iopub.status.idle": "2024-04-16T07:14:19.730360Z",
     "shell.execute_reply": "2024-04-16T07:14:19.729144Z"
    },
    "papermill": {
     "duration": 0.07178,
     "end_time": "2024-04-16T07:14:19.732664",
     "exception": false,
     "start_time": "2024-04-16T07:14:19.660884",
     "status": "completed"
    },
    "tags": []
   },
   "outputs": [],
   "source": [
    "import matplotlib.pyplot as plt"
   ]
  },
  {
   "cell_type": "code",
   "execution_count": 27,
   "id": "12d0552e",
   "metadata": {
    "execution": {
     "iopub.execute_input": "2024-04-16T07:14:19.859241Z",
     "iopub.status.busy": "2024-04-16T07:14:19.858811Z",
     "iopub.status.idle": "2024-04-16T07:14:19.865503Z",
     "shell.execute_reply": "2024-04-16T07:14:19.864297Z"
    },
    "papermill": {
     "duration": 0.073097,
     "end_time": "2024-04-16T07:14:19.867624",
     "exception": false,
     "start_time": "2024-04-16T07:14:19.794527",
     "status": "completed"
    },
    "tags": []
   },
   "outputs": [
    {
     "data": {
      "text/plain": [
       "<keras.src.callbacks.history.History at 0x7e41a32a2710>"
      ]
     },
     "execution_count": 27,
     "metadata": {},
     "output_type": "execute_result"
    }
   ],
   "source": [
    "history"
   ]
  },
  {
   "cell_type": "code",
   "execution_count": 28,
   "id": "a7e9078d",
   "metadata": {
    "execution": {
     "iopub.execute_input": "2024-04-16T07:14:19.997548Z",
     "iopub.status.busy": "2024-04-16T07:14:19.996653Z",
     "iopub.status.idle": "2024-04-16T07:14:20.008987Z",
     "shell.execute_reply": "2024-04-16T07:14:20.008063Z"
    },
    "papermill": {
     "duration": 0.079837,
     "end_time": "2024-04-16T07:14:20.011355",
     "exception": false,
     "start_time": "2024-04-16T07:14:19.931518",
     "status": "completed"
    },
    "tags": []
   },
   "outputs": [
    {
     "data": {
      "text/plain": [
       "{'accuracy': [0.6014062762260437,\n",
       "  0.6792187690734863,\n",
       "  0.7115625143051147,\n",
       "  0.7451562285423279,\n",
       "  0.7532812356948853,\n",
       "  0.7607812285423279,\n",
       "  0.7623437643051147,\n",
       "  0.7639062404632568,\n",
       "  0.7728124856948853,\n",
       "  0.7548437714576721,\n",
       "  0.7578125,\n",
       "  0.7565624713897705,\n",
       "  0.7595312595367432,\n",
       "  0.7440624833106995,\n",
       "  0.7629687786102295,\n",
       "  0.7759374976158142,\n",
       "  0.7823437452316284,\n",
       "  0.7906249761581421,\n",
       "  0.7890625,\n",
       "  0.7953125238418579,\n",
       "  0.7945312261581421,\n",
       "  0.8017187714576721,\n",
       "  0.803906261920929,\n",
       "  0.8076562285423279,\n",
       "  0.8096874952316284,\n",
       "  0.8129687309265137,\n",
       "  0.8131250143051147,\n",
       "  0.8106250166893005,\n",
       "  0.8131250143051147,\n",
       "  0.8029687404632568,\n",
       "  0.813281238079071,\n",
       "  0.8199999928474426,\n",
       "  0.8201562762260437,\n",
       "  0.8129687309265137,\n",
       "  0.8206250071525574,\n",
       "  0.8060937523841858,\n",
       "  0.8174999952316284,\n",
       "  0.8240625262260437,\n",
       "  0.8228124976158142,\n",
       "  0.8224999904632568,\n",
       "  0.8229687213897705,\n",
       "  0.7876562476158142,\n",
       "  0.7890625,\n",
       "  0.8157812356948853,\n",
       "  0.8217187523841858,\n",
       "  0.8245312571525574,\n",
       "  0.8259375095367432,\n",
       "  0.8265625238418579,\n",
       "  0.8274999856948853,\n",
       "  0.8235937356948853,\n",
       "  0.8278124928474426,\n",
       "  0.828125,\n",
       "  0.8285937309265137,\n",
       "  0.8292187452316284,\n",
       "  0.8292187452316284,\n",
       "  0.8304687738418579,\n",
       "  0.8292187452316284,\n",
       "  0.831250011920929,\n",
       "  0.8303124904632568,\n",
       "  0.8315625190734863,\n",
       "  0.8332812786102295,\n",
       "  0.8207812309265137,\n",
       "  0.8226562738418579,\n",
       "  0.8298437595367432,\n",
       "  0.8290625214576721,\n",
       "  0.8307812213897705,\n",
       "  0.8293750286102295,\n",
       "  0.8293750286102295,\n",
       "  0.8303124904632568,\n",
       "  0.8337500095367432,\n",
       "  0.8315625190734863,\n",
       "  0.8340625166893005,\n",
       "  0.835156261920929,\n",
       "  0.8349999785423279,\n",
       "  0.836718738079071,\n",
       "  0.8378124833106995,\n",
       "  0.83203125,\n",
       "  0.83203125,\n",
       "  0.8368750214576721,\n",
       "  0.8399999737739563,\n",
       "  0.8415625095367432,\n",
       "  0.8409374952316284,\n",
       "  0.8399999737739563,\n",
       "  0.8431249856948853,\n",
       "  0.8412500023841858,\n",
       "  0.8392187356948853,\n",
       "  0.8296874761581421,\n",
       "  0.8299999833106995,\n",
       "  0.8395312428474426,\n",
       "  0.8392187356948853,\n",
       "  0.8412500023841858,\n",
       "  0.8410937786102295,\n",
       "  0.8414062261581421,\n",
       "  0.83984375,\n",
       "  0.8409374952316284,\n",
       "  0.8424999713897705,\n",
       "  0.8424999713897705,\n",
       "  0.8403124809265137,\n",
       "  0.8409374952316284,\n",
       "  0.8424999713897705],\n",
       " 'loss': [3.625495195388794,\n",
       "  2.5790393352508545,\n",
       "  2.2102315425872803,\n",
       "  2.017854690551758,\n",
       "  1.9029861688613892,\n",
       "  1.7631133794784546,\n",
       "  1.5196586847305298,\n",
       "  1.3160251379013062,\n",
       "  1.147940754890442,\n",
       "  1.1384960412979126,\n",
       "  1.0572322607040405,\n",
       "  0.9881367683410645,\n",
       "  0.8363633751869202,\n",
       "  0.716816246509552,\n",
       "  0.634235680103302,\n",
       "  0.6040351390838623,\n",
       "  0.5907464027404785,\n",
       "  0.5852236747741699,\n",
       "  0.5666098594665527,\n",
       "  0.5594249367713928,\n",
       "  0.5450272560119629,\n",
       "  0.5342217683792114,\n",
       "  0.5235821604728699,\n",
       "  0.5250222682952881,\n",
       "  0.5225276947021484,\n",
       "  0.5133106112480164,\n",
       "  0.5151852965354919,\n",
       "  0.5017043948173523,\n",
       "  0.49832823872566223,\n",
       "  0.5001714825630188,\n",
       "  0.4925403892993927,\n",
       "  0.48923152685165405,\n",
       "  0.4919355511665344,\n",
       "  0.47789397835731506,\n",
       "  0.4786933958530426,\n",
       "  0.4704897403717041,\n",
       "  0.45311203598976135,\n",
       "  0.4554997682571411,\n",
       "  0.4580753445625305,\n",
       "  0.4541665315628052,\n",
       "  0.45175427198410034,\n",
       "  0.48891639709472656,\n",
       "  0.49863600730895996,\n",
       "  0.48047056794166565,\n",
       "  0.4704555869102478,\n",
       "  0.4656326174736023,\n",
       "  0.45983973145484924,\n",
       "  0.4554099142551422,\n",
       "  0.45638859272003174,\n",
       "  0.45358046889305115,\n",
       "  0.44874507188796997,\n",
       "  0.4521637260913849,\n",
       "  0.44960248470306396,\n",
       "  0.4481745958328247,\n",
       "  0.4455202519893646,\n",
       "  0.4447256028652191,\n",
       "  0.4417266547679901,\n",
       "  0.44103896617889404,\n",
       "  0.43635833263397217,\n",
       "  0.43614813685417175,\n",
       "  0.43372058868408203,\n",
       "  0.42562639713287354,\n",
       "  0.4216916263103485,\n",
       "  0.4207804203033447,\n",
       "  0.42291489243507385,\n",
       "  0.4290940463542938,\n",
       "  0.4266560673713684,\n",
       "  0.4232640862464905,\n",
       "  0.42753058671951294,\n",
       "  0.4172709584236145,\n",
       "  0.41968268156051636,\n",
       "  0.4187311828136444,\n",
       "  0.41982951760292053,\n",
       "  0.4214900732040405,\n",
       "  0.41640838980674744,\n",
       "  0.4141770601272583,\n",
       "  0.4210762083530426,\n",
       "  0.41845929622650146,\n",
       "  0.42222458124160767,\n",
       "  0.41686251759529114,\n",
       "  0.4162028431892395,\n",
       "  0.41800305247306824,\n",
       "  0.41823944449424744,\n",
       "  0.4180014431476593,\n",
       "  0.41791069507598877,\n",
       "  0.41895514726638794,\n",
       "  0.432442307472229,\n",
       "  0.4210458993911743,\n",
       "  0.40713587403297424,\n",
       "  0.41525402665138245,\n",
       "  0.4109809994697571,\n",
       "  0.41074681282043457,\n",
       "  0.40721267461776733,\n",
       "  0.40550339221954346,\n",
       "  0.4029357135295868,\n",
       "  0.3978159725666046,\n",
       "  0.4095476567745209,\n",
       "  0.3968907296657562,\n",
       "  0.39779576659202576,\n",
       "  0.41489535570144653],\n",
       " 'val_accuracy': [0.6299999952316284,\n",
       "  0.6862499713897705,\n",
       "  0.7331249713897705,\n",
       "  0.7368749976158142,\n",
       "  0.7443749904632568,\n",
       "  0.7425000071525574,\n",
       "  0.7450000047683716,\n",
       "  0.7512500286102295,\n",
       "  0.7593749761581421,\n",
       "  0.737500011920929,\n",
       "  0.7350000143051147,\n",
       "  0.7443749904632568,\n",
       "  0.746874988079071,\n",
       "  0.746874988079071,\n",
       "  0.7543749809265137,\n",
       "  0.7706249952316284,\n",
       "  0.7681249976158142,\n",
       "  0.7749999761581421,\n",
       "  0.7762500047683716,\n",
       "  0.7825000286102295,\n",
       "  0.7737500071525574,\n",
       "  0.7856249809265137,\n",
       "  0.7906249761581421,\n",
       "  0.7925000190734863,\n",
       "  0.7956249713897705,\n",
       "  0.7956249713897705,\n",
       "  0.7956249713897705,\n",
       "  0.7981250286102295,\n",
       "  0.7649999856948853,\n",
       "  0.7906249761581421,\n",
       "  0.7950000166893005,\n",
       "  0.7987499833106995,\n",
       "  0.8006250262260437,\n",
       "  0.800000011920929,\n",
       "  0.8031250238418579,\n",
       "  0.8062499761581421,\n",
       "  0.8087499737739563,\n",
       "  0.8087499737739563,\n",
       "  0.8106250166893005,\n",
       "  0.8131250143051147,\n",
       "  0.809374988079071,\n",
       "  0.7900000214576721,\n",
       "  0.7962499856948853,\n",
       "  0.8081250190734863,\n",
       "  0.815625011920929,\n",
       "  0.8149999976158142,\n",
       "  0.8125,\n",
       "  0.815625011920929,\n",
       "  0.8168749809265137,\n",
       "  0.8087499737739563,\n",
       "  0.809374988079071,\n",
       "  0.8100000023841858,\n",
       "  0.8137500286102295,\n",
       "  0.8143749833106995,\n",
       "  0.8131250143051147,\n",
       "  0.8149999976158142,\n",
       "  0.8118749856948853,\n",
       "  0.8106250166893005,\n",
       "  0.815625011920929,\n",
       "  0.815625011920929,\n",
       "  0.8056250214576721,\n",
       "  0.8031250238418579,\n",
       "  0.8043749928474426,\n",
       "  0.8062499761581421,\n",
       "  0.8056250214576721,\n",
       "  0.8087499737739563,\n",
       "  0.8106250166893005,\n",
       "  0.8149999976158142,\n",
       "  0.809374988079071,\n",
       "  0.8174999952316284,\n",
       "  0.8181250095367432,\n",
       "  0.8224999904632568,\n",
       "  0.8212500214576721,\n",
       "  0.8206250071525574,\n",
       "  0.824999988079071,\n",
       "  0.8199999928474426,\n",
       "  0.8100000023841858,\n",
       "  0.8224999904632568,\n",
       "  0.8268749713897705,\n",
       "  0.8299999833106995,\n",
       "  0.8287500143051147,\n",
       "  0.828125,\n",
       "  0.8306249976158142,\n",
       "  0.8262500166893005,\n",
       "  0.824999988079071,\n",
       "  0.8143749833106995,\n",
       "  0.8131250143051147,\n",
       "  0.8243749737739563,\n",
       "  0.8256250023841858,\n",
       "  0.8318750262260437,\n",
       "  0.8224999904632568,\n",
       "  0.8274999856948853,\n",
       "  0.8337500095367432,\n",
       "  0.8262500166893005,\n",
       "  0.8262500166893005,\n",
       "  0.831250011920929,\n",
       "  0.8268749713897705,\n",
       "  0.8337500095367432,\n",
       "  0.8318750262260437,\n",
       "  0.8393750190734863],\n",
       " 'val_loss': [3.4150707721710205,\n",
       "  2.7435996532440186,\n",
       "  2.4353768825531006,\n",
       "  2.3684751987457275,\n",
       "  2.2014174461364746,\n",
       "  2.056053638458252,\n",
       "  1.6898106336593628,\n",
       "  1.4805198907852173,\n",
       "  1.430452823638916,\n",
       "  1.3451216220855713,\n",
       "  1.2868859767913818,\n",
       "  1.128576636314392,\n",
       "  0.8879021406173706,\n",
       "  0.8368916511535645,\n",
       "  0.7189885973930359,\n",
       "  0.719010591506958,\n",
       "  0.6719112396240234,\n",
       "  0.6681541204452515,\n",
       "  0.6267684698104858,\n",
       "  0.6463308930397034,\n",
       "  0.6345868110656738,\n",
       "  0.6254767775535583,\n",
       "  0.5950986742973328,\n",
       "  0.5870593786239624,\n",
       "  0.5928035974502563,\n",
       "  0.5743650197982788,\n",
       "  0.591861367225647,\n",
       "  0.5582177639007568,\n",
       "  0.5705267190933228,\n",
       "  0.5524808764457703,\n",
       "  0.5789123773574829,\n",
       "  0.5757806301116943,\n",
       "  0.5587363243103027,\n",
       "  0.5509020686149597,\n",
       "  0.5595685839653015,\n",
       "  0.4948473274707794,\n",
       "  0.503723680973053,\n",
       "  0.49489566683769226,\n",
       "  0.5320435762405396,\n",
       "  0.537776529788971,\n",
       "  0.5375401377677917,\n",
       "  0.538402795791626,\n",
       "  0.528876543045044,\n",
       "  0.540066659450531,\n",
       "  0.5221120715141296,\n",
       "  0.5255795121192932,\n",
       "  0.5291913747787476,\n",
       "  0.5247074365615845,\n",
       "  0.5053187012672424,\n",
       "  0.5108161568641663,\n",
       "  0.4990483522415161,\n",
       "  0.5127103328704834,\n",
       "  0.5171713829040527,\n",
       "  0.5221500992774963,\n",
       "  0.5150378346443176,\n",
       "  0.51246178150177,\n",
       "  0.48047444224357605,\n",
       "  0.461399108171463,\n",
       "  0.46851441264152527,\n",
       "  0.4663369357585907,\n",
       "  0.4575953781604767,\n",
       "  0.4530709385871887,\n",
       "  0.4503859281539917,\n",
       "  0.46118584275245667,\n",
       "  0.4574657082557678,\n",
       "  0.4516506493091583,\n",
       "  0.457219660282135,\n",
       "  0.4609562158584595,\n",
       "  0.44138744473457336,\n",
       "  0.44970929622650146,\n",
       "  0.4415941536426544,\n",
       "  0.4475001394748688,\n",
       "  0.4393826425075531,\n",
       "  0.43858933448791504,\n",
       "  0.43759453296661377,\n",
       "  0.4397541284561157,\n",
       "  0.45903480052948,\n",
       "  0.4676849842071533,\n",
       "  0.44352951645851135,\n",
       "  0.4497019052505493,\n",
       "  0.4490756094455719,\n",
       "  0.4881916046142578,\n",
       "  0.44939446449279785,\n",
       "  0.470811665058136,\n",
       "  0.46688312292099,\n",
       "  0.4603717029094696,\n",
       "  0.4667283594608307,\n",
       "  0.4422425925731659,\n",
       "  0.4409619867801666,\n",
       "  0.4461860656738281,\n",
       "  0.46363961696624756,\n",
       "  0.46132415533065796,\n",
       "  0.4546929895877838,\n",
       "  0.4724003076553345,\n",
       "  0.46296462416648865,\n",
       "  0.4274165630340576,\n",
       "  0.41681212186813354,\n",
       "  0.43987926840782166,\n",
       "  0.4687165915966034,\n",
       "  0.441019207239151]}"
      ]
     },
     "execution_count": 28,
     "metadata": {},
     "output_type": "execute_result"
    }
   ],
   "source": [
    "history.history"
   ]
  },
  {
   "cell_type": "code",
   "execution_count": 29,
   "id": "8493a7ce",
   "metadata": {
    "execution": {
     "iopub.execute_input": "2024-04-16T07:14:20.150808Z",
     "iopub.status.busy": "2024-04-16T07:14:20.150418Z",
     "iopub.status.idle": "2024-04-16T07:14:20.449527Z",
     "shell.execute_reply": "2024-04-16T07:14:20.448240Z"
    },
    "papermill": {
     "duration": 0.376111,
     "end_time": "2024-04-16T07:14:20.453205",
     "exception": false,
     "start_time": "2024-04-16T07:14:20.077094",
     "status": "completed"
    },
    "tags": []
   },
   "outputs": [
    {
     "data": {
      "text/plain": [
       "[<matplotlib.lines.Line2D at 0x7e4188feb310>]"
      ]
     },
     "execution_count": 29,
     "metadata": {},
     "output_type": "execute_result"
    },
    {
     "data": {
      "image/png": "[encoded data removed]",
      "text/plain": [
       "<Figure size 640x480 with 1 Axes>"
      ]
     },
     "metadata": {},
     "output_type": "display_data"
    }
   ],
   "source": [
    "plt.plot(history.history[\"loss\"])\n",
    "plt.plot(history.history[\"val_loss\"])"
   ]
  },
  {
   "cell_type": "code",
   "execution_count": null,
   "id": "19057108",
   "metadata": {
    "papermill": {
     "duration": 0.066112,
     "end_time": "2024-04-16T07:14:20.591445",
     "exception": false,
     "start_time": "2024-04-16T07:14:20.525333",
     "status": "completed"
    },
    "tags": []
   },
   "outputs": [],
   "source": []
  }
 ],
 "metadata": {
  "kaggle": {
   "accelerator": "none",
   "dataSources": [
    {
     "datasetId": 869651,
     "sourceId": 1481789,
     "sourceType": "datasetVersion"
    }
   ],
   "dockerImageVersionId": 30684,
   "isGpuEnabled": false,
   "isInternetEnabled": true,
   "language": "python",
   "sourceType": "notebook"
  },
  "kernelspec": {
   "display_name": "Python 3",
   "language": "python",
   "name": "python3"
  },
  "language_info": {
   "codemirror_mode": {
    "name": "ipython",
    "version": 3
   },
   "file_extension": ".py",
   "mimetype": "text/x-python",
   "name": "python",
   "nbconvert_exporter": "python",
   "pygments_lexer": "ipython3",
   "version": "3.10.13"
  },
  "papermill": {
   "default_parameters": {},
   "duration": 76.248057,
   "end_time": "2024-04-16T07:14:23.078829",
   "environment_variables": {},
   "exception": null,
   "input_path": "__notebook__.ipynb",
   "output_path": "__notebook__.ipynb",
   "parameters": {},
   "start_time": "2024-04-16T07:13:06.830772",
   "version": "2.5.0"
  }
 },
 "nbformat": 4,
 "nbformat_minor": 5
}
